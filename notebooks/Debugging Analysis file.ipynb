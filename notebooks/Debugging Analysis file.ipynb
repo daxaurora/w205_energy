{
 "cells": [
  {
   "cell_type": "markdown",
   "metadata": {},
   "source": [
    "# Testing energy analysis file"
   ]
  },
  {
   "cell_type": "code",
   "execution_count": 4,
   "metadata": {
    "collapsed": true
   },
   "outputs": [],
   "source": [
    "# imports\n",
    "from __future__ import absolute_import, print_function, unicode_literals\n",
    "import numpy as np\n",
    "import pandas as pd\n",
    "from sklearn import linear_model\n",
    "import psycopg2\n",
    "from psycopg2.extensions import ISOLATION_LEVEL_AUTOCOMMIT\n",
    "from sqlalchemy import create_engine"
   ]
  },
  {
   "cell_type": "code",
   "execution_count": 22,
   "metadata": {
    "collapsed": true
   },
   "outputs": [],
   "source": [
    "def get_monthly_data():\n",
    "    \"\"\"\n",
    "    This function connects to the postgres DB to pull weather data\n",
    "    corresponding to each solar location and month.\n",
    "    \"\"\"\n",
    "    # Set up connection to postgres tables\n",
    "    db_loc = 'postgresql+psycopg2://teamsunshinedemo:oscarisawesome123'\n",
    "    db_loc += '@teamsunshinedemo.coga7nzsvf0h.us-east-1.rds.amazonaws.com:'\n",
    "    db_loc += '5432/solarenergy'\n",
    "    engine = create_engine(db_loc)\n",
    "\n",
    "    # get weather data\n",
    "    query = \"\"\"\n",
    "            SELECT solar_fields.loc_id as loc_id, full_date,\n",
    "            CAST(solar_fields.latitude as decimal) as lat,\n",
    "            CAST(solar_fields.longitude as decimal) as long,\n",
    "            CAST(solar_radiation as decimal) as solar_radiation, mwh\n",
    "            FROM(\n",
    "                (SELECT generation.loc_id as loc_id,\n",
    "                wban_id, full_date, latitude, longitude,\n",
    "                CAST(mwh as decimal) AS mwh\n",
    "                FROM generation JOIN closest_stations\n",
    "                ON generation.loc_id=closest_stations.loc_id)\n",
    "                ) AS solar_fields\n",
    "            LEFT JOIN uscrn_monthly\n",
    "            ON solar_fields.wban_id=uscrn_monthly.wban_id\n",
    "            AND solar_fields.full_date=uscrn_monthly.month\n",
    "            \"\"\"\n",
    "    data_df = pd.read_sql(query, engine, index_col = 'loc_id')\n",
    "\n",
    "    return data_df"
   ]
  },
  {
   "cell_type": "code",
   "execution_count": 194,
   "metadata": {
    "collapsed": false
   },
   "outputs": [],
   "source": [
    "data_df = get_monthly_data()"
   ]
  },
  {
   "cell_type": "code",
   "execution_count": 195,
   "metadata": {
    "collapsed": false
   },
   "outputs": [
    {
     "data": {
      "text/html": [
       "<div>\n",
       "<table border=\"1\" class=\"dataframe\">\n",
       "  <thead>\n",
       "    <tr style=\"text-align: right;\">\n",
       "      <th></th>\n",
       "      <th>full_date</th>\n",
       "      <th>lat</th>\n",
       "      <th>long</th>\n",
       "      <th>solar_radiation</th>\n",
       "      <th>mwh</th>\n",
       "    </tr>\n",
       "    <tr>\n",
       "      <th>loc_id</th>\n",
       "      <th></th>\n",
       "      <th></th>\n",
       "      <th></th>\n",
       "      <th></th>\n",
       "      <th></th>\n",
       "    </tr>\n",
       "  </thead>\n",
       "  <tbody>\n",
       "    <tr>\n",
       "      <th>ELEC.PLANT.GEN.10441-SUN-ALL.M</th>\n",
       "      <td>200101</td>\n",
       "      <td>35.019480</td>\n",
       "      <td>-117.555530</td>\n",
       "      <td>NaN</td>\n",
       "      <td>362.0</td>\n",
       "    </tr>\n",
       "    <tr>\n",
       "      <th>ELEC.PLANT.GEN.10444-SUN-ALL.M</th>\n",
       "      <td>200101</td>\n",
       "      <td>35.030800</td>\n",
       "      <td>-117.356300</td>\n",
       "      <td>NaN</td>\n",
       "      <td>1228.0</td>\n",
       "    </tr>\n",
       "    <tr>\n",
       "      <th>ELEC.PLANT.GEN.10446-SUN-ALL.M</th>\n",
       "      <td>200101</td>\n",
       "      <td>35.033000</td>\n",
       "      <td>-117.338000</td>\n",
       "      <td>NaN</td>\n",
       "      <td>1412.0</td>\n",
       "    </tr>\n",
       "    <tr>\n",
       "      <th>ELEC.PLANT.GEN.10442-SUN-ALL.M</th>\n",
       "      <td>200101</td>\n",
       "      <td>35.020981</td>\n",
       "      <td>-117.566079</td>\n",
       "      <td>NaN</td>\n",
       "      <td>1351.0</td>\n",
       "    </tr>\n",
       "    <tr>\n",
       "      <th>ELEC.PLANT.GEN.10439-SUN-ALL.M</th>\n",
       "      <td>200101</td>\n",
       "      <td>35.006940</td>\n",
       "      <td>-117.555768</td>\n",
       "      <td>NaN</td>\n",
       "      <td>774.0</td>\n",
       "    </tr>\n",
       "  </tbody>\n",
       "</table>\n",
       "</div>"
      ],
      "text/plain": [
       "                               full_date        lat        long  \\\n",
       "loc_id                                                            \n",
       "ELEC.PLANT.GEN.10441-SUN-ALL.M    200101  35.019480 -117.555530   \n",
       "ELEC.PLANT.GEN.10444-SUN-ALL.M    200101  35.030800 -117.356300   \n",
       "ELEC.PLANT.GEN.10446-SUN-ALL.M    200101  35.033000 -117.338000   \n",
       "ELEC.PLANT.GEN.10442-SUN-ALL.M    200101  35.020981 -117.566079   \n",
       "ELEC.PLANT.GEN.10439-SUN-ALL.M    200101  35.006940 -117.555768   \n",
       "\n",
       "                                solar_radiation     mwh  \n",
       "loc_id                                                   \n",
       "ELEC.PLANT.GEN.10441-SUN-ALL.M              NaN   362.0  \n",
       "ELEC.PLANT.GEN.10444-SUN-ALL.M              NaN  1228.0  \n",
       "ELEC.PLANT.GEN.10446-SUN-ALL.M              NaN  1412.0  \n",
       "ELEC.PLANT.GEN.10442-SUN-ALL.M              NaN  1351.0  \n",
       "ELEC.PLANT.GEN.10439-SUN-ALL.M              NaN   774.0  "
      ]
     },
     "execution_count": 195,
     "metadata": {},
     "output_type": "execute_result"
    }
   ],
   "source": [
    "# take a look\n",
    "data_df.head()"
   ]
  },
  {
   "cell_type": "code",
   "execution_count": 196,
   "metadata": {
    "collapsed": true
   },
   "outputs": [],
   "source": [
    "def data_cleaning(data_df):\n",
    "    \"\"\"\n",
    "    This function takes a dataframe with full_date, lat, long and\n",
    "    solar_radiation, splits out the month and recodes na\n",
    "    values in solar radiation.\n",
    "    \"\"\"\n",
    "    # making all types numeric and coding missing values as nan\n",
    "    data_df['year'] = data_df.apply(lambda x: int(x['full_date'][:4]), axis=1)\n",
    "    data_df['month'] = data_df.apply(lambda x: int(x['full_date'][4:]), axis=1)\n",
    "    del data_df['full_date']\n",
    "    data_df['solar_radiation'] = data_df.solar_radiation.replace(-9999.0, np.nan)\n",
    "    return data_df"
   ]
  },
  {
   "cell_type": "code",
   "execution_count": 143,
   "metadata": {
    "collapsed": false
   },
   "outputs": [],
   "source": [
    "clean_df = data_cleaning(data_df)"
   ]
  },
  {
   "cell_type": "code",
   "execution_count": 55,
   "metadata": {
    "collapsed": false
   },
   "outputs": [
    {
     "data": {
      "text/html": [
       "<div>\n",
       "<table border=\"1\" class=\"dataframe\">\n",
       "  <thead>\n",
       "    <tr style=\"text-align: right;\">\n",
       "      <th></th>\n",
       "      <th>lat</th>\n",
       "      <th>long</th>\n",
       "      <th>solar_radiation</th>\n",
       "      <th>mwh</th>\n",
       "      <th>year</th>\n",
       "      <th>month</th>\n",
       "    </tr>\n",
       "    <tr>\n",
       "      <th>loc_id</th>\n",
       "      <th></th>\n",
       "      <th></th>\n",
       "      <th></th>\n",
       "      <th></th>\n",
       "      <th></th>\n",
       "      <th></th>\n",
       "    </tr>\n",
       "  </thead>\n",
       "  <tbody>\n",
       "    <tr>\n",
       "      <th>ELEC.PLANT.GEN.10441-SUN-ALL.M</th>\n",
       "      <td>35.019480</td>\n",
       "      <td>-117.555530</td>\n",
       "      <td>NaN</td>\n",
       "      <td>362.0</td>\n",
       "      <td>2001</td>\n",
       "      <td>1</td>\n",
       "    </tr>\n",
       "    <tr>\n",
       "      <th>ELEC.PLANT.GEN.10444-SUN-ALL.M</th>\n",
       "      <td>35.030800</td>\n",
       "      <td>-117.356300</td>\n",
       "      <td>NaN</td>\n",
       "      <td>1228.0</td>\n",
       "      <td>2001</td>\n",
       "      <td>1</td>\n",
       "    </tr>\n",
       "    <tr>\n",
       "      <th>ELEC.PLANT.GEN.10446-SUN-ALL.M</th>\n",
       "      <td>35.033000</td>\n",
       "      <td>-117.338000</td>\n",
       "      <td>NaN</td>\n",
       "      <td>1412.0</td>\n",
       "      <td>2001</td>\n",
       "      <td>1</td>\n",
       "    </tr>\n",
       "    <tr>\n",
       "      <th>ELEC.PLANT.GEN.10442-SUN-ALL.M</th>\n",
       "      <td>35.020981</td>\n",
       "      <td>-117.566079</td>\n",
       "      <td>NaN</td>\n",
       "      <td>1351.0</td>\n",
       "      <td>2001</td>\n",
       "      <td>1</td>\n",
       "    </tr>\n",
       "    <tr>\n",
       "      <th>ELEC.PLANT.GEN.10439-SUN-ALL.M</th>\n",
       "      <td>35.006940</td>\n",
       "      <td>-117.555768</td>\n",
       "      <td>NaN</td>\n",
       "      <td>774.0</td>\n",
       "      <td>2001</td>\n",
       "      <td>1</td>\n",
       "    </tr>\n",
       "  </tbody>\n",
       "</table>\n",
       "</div>"
      ],
      "text/plain": [
       "                                      lat        long  solar_radiation  \\\n",
       "loc_id                                                                   \n",
       "ELEC.PLANT.GEN.10441-SUN-ALL.M  35.019480 -117.555530              NaN   \n",
       "ELEC.PLANT.GEN.10444-SUN-ALL.M  35.030800 -117.356300              NaN   \n",
       "ELEC.PLANT.GEN.10446-SUN-ALL.M  35.033000 -117.338000              NaN   \n",
       "ELEC.PLANT.GEN.10442-SUN-ALL.M  35.020981 -117.566079              NaN   \n",
       "ELEC.PLANT.GEN.10439-SUN-ALL.M  35.006940 -117.555768              NaN   \n",
       "\n",
       "                                   mwh  year  month  \n",
       "loc_id                                               \n",
       "ELEC.PLANT.GEN.10441-SUN-ALL.M   362.0  2001      1  \n",
       "ELEC.PLANT.GEN.10444-SUN-ALL.M  1228.0  2001      1  \n",
       "ELEC.PLANT.GEN.10446-SUN-ALL.M  1412.0  2001      1  \n",
       "ELEC.PLANT.GEN.10442-SUN-ALL.M  1351.0  2001      1  \n",
       "ELEC.PLANT.GEN.10439-SUN-ALL.M   774.0  2001      1  "
      ]
     },
     "execution_count": 55,
     "metadata": {},
     "output_type": "execute_result"
    }
   ],
   "source": [
    "# take a look:\n",
    "clean_df.head()"
   ]
  },
  {
   "cell_type": "code",
   "execution_count": 197,
   "metadata": {
    "collapsed": true
   },
   "outputs": [],
   "source": [
    "def predict_monthly_mwh(clean_df):\n",
    "    \"\"\"\n",
    "    Function to run a regression on the relationship between solar radiation\n",
    "    levels and energy production from solar field locations. The function\n",
    "    returns a new df with weather data and predictions for each solar location.\n",
    "\n",
    "    NOTE: in future versions of this architecture this regression could be\n",
    "    used as a prediction tool for locations that don't yet have solar fields.\n",
    "    For that, we'd want to add additional weather variables. For now we'll\n",
    "    simply explore this relationship to better inform our audience.\n",
    "    \"\"\"\n",
    "    # remove nans\n",
    "    missing = np.isnan(clean_df.solar_radiation)\n",
    "    monthly_pred_df = clean_df[~missing]\n",
    "\n",
    "    # selecting cols for regression\n",
    "    #cols=['solar_radiation','month','lat']\n",
    "    cols=['solar_radiation']\n",
    "    X = monthly_pred_df.as_matrix(columns=cols)\n",
    "    y = np.array(monthly_pred_df.mwh)\n",
    "\n",
    "    # create and fit model\n",
    "    lm = linear_model.LinearRegression()\n",
    "    lm.fit(X, y)\n",
    "\n",
    "    # add predicted values to a new dataframe column\n",
    "    idx = monthly_pred_df.index\n",
    "    monthly_pred_df.loc[:,'predicted_mwh'] = pd.Series(lm.predict(X), index=idx)\n",
    "\n",
    "    # return the model for future use and predictions for serving layer\n",
    "    return lm, monthly_pred_df"
   ]
  },
  {
   "cell_type": "code",
   "execution_count": 63,
   "metadata": {
    "collapsed": true
   },
   "outputs": [],
   "source": [
    "missing = np.isnan(clean_df.solar_radiation)"
   ]
  },
  {
   "cell_type": "code",
   "execution_count": 66,
   "metadata": {
    "collapsed": false
   },
   "outputs": [
    {
     "name": "stdout",
     "output_type": "stream",
     "text": [
      "38216\n"
     ]
    },
    {
     "data": {
      "text/plain": [
       "16584"
      ]
     },
     "execution_count": 66,
     "metadata": {},
     "output_type": "execute_result"
    }
   ],
   "source": [
    "print(len(clean_df))\n",
    "sum(missing)"
   ]
  },
  {
   "cell_type": "code",
   "execution_count": 198,
   "metadata": {
    "collapsed": false
   },
   "outputs": [],
   "source": [
    "model, monthly_pred_df = predict_monthly_mwh(clean_df)"
   ]
  },
  {
   "cell_type": "code",
   "execution_count": 145,
   "metadata": {
    "collapsed": false
   },
   "outputs": [
    {
     "data": {
      "text/html": [
       "<div>\n",
       "<table border=\"1\" class=\"dataframe\">\n",
       "  <thead>\n",
       "    <tr style=\"text-align: right;\">\n",
       "      <th></th>\n",
       "      <th>lat</th>\n",
       "      <th>long</th>\n",
       "      <th>solar_radiation</th>\n",
       "      <th>mwh</th>\n",
       "      <th>year</th>\n",
       "      <th>month</th>\n",
       "      <th>predicted_mwh</th>\n",
       "    </tr>\n",
       "    <tr>\n",
       "      <th>loc_id</th>\n",
       "      <th></th>\n",
       "      <th></th>\n",
       "      <th></th>\n",
       "      <th></th>\n",
       "      <th></th>\n",
       "      <th></th>\n",
       "      <th></th>\n",
       "    </tr>\n",
       "  </thead>\n",
       "  <tbody>\n",
       "    <tr>\n",
       "      <th>ELEC.PLANT.GEN.529-SUN-ALL.M</th>\n",
       "      <td>38.340015</td>\n",
       "      <td>-121.113861</td>\n",
       "      <td>23.9</td>\n",
       "      <td>241.0</td>\n",
       "      <td>2004</td>\n",
       "      <td>4</td>\n",
       "      <td>3769.266720</td>\n",
       "    </tr>\n",
       "    <tr>\n",
       "      <th>ELEC.PLANT.GEN.529-SUN-ALL.M</th>\n",
       "      <td>38.340015</td>\n",
       "      <td>-121.113861</td>\n",
       "      <td>27.9</td>\n",
       "      <td>234.0</td>\n",
       "      <td>2004</td>\n",
       "      <td>5</td>\n",
       "      <td>4566.855816</td>\n",
       "    </tr>\n",
       "    <tr>\n",
       "      <th>ELEC.PLANT.GEN.10444-SUN-ALL.M</th>\n",
       "      <td>35.030800</td>\n",
       "      <td>-117.356300</td>\n",
       "      <td>29.6</td>\n",
       "      <td>19249.0</td>\n",
       "      <td>2004</td>\n",
       "      <td>6</td>\n",
       "      <td>4905.831182</td>\n",
       "    </tr>\n",
       "    <tr>\n",
       "      <th>ELEC.PLANT.GEN.10446-SUN-ALL.M</th>\n",
       "      <td>35.033000</td>\n",
       "      <td>-117.338000</td>\n",
       "      <td>29.6</td>\n",
       "      <td>18952.0</td>\n",
       "      <td>2004</td>\n",
       "      <td>6</td>\n",
       "      <td>4905.831182</td>\n",
       "    </tr>\n",
       "    <tr>\n",
       "      <th>ELEC.PLANT.GEN.10441-SUN-ALL.M</th>\n",
       "      <td>35.019480</td>\n",
       "      <td>-117.555530</td>\n",
       "      <td>29.6</td>\n",
       "      <td>10447.0</td>\n",
       "      <td>2004</td>\n",
       "      <td>6</td>\n",
       "      <td>4905.831182</td>\n",
       "    </tr>\n",
       "  </tbody>\n",
       "</table>\n",
       "</div>"
      ],
      "text/plain": [
       "                                      lat        long  solar_radiation  \\\n",
       "loc_id                                                                   \n",
       "ELEC.PLANT.GEN.529-SUN-ALL.M    38.340015 -121.113861             23.9   \n",
       "ELEC.PLANT.GEN.529-SUN-ALL.M    38.340015 -121.113861             27.9   \n",
       "ELEC.PLANT.GEN.10444-SUN-ALL.M  35.030800 -117.356300             29.6   \n",
       "ELEC.PLANT.GEN.10446-SUN-ALL.M  35.033000 -117.338000             29.6   \n",
       "ELEC.PLANT.GEN.10441-SUN-ALL.M  35.019480 -117.555530             29.6   \n",
       "\n",
       "                                    mwh  year  month  predicted_mwh  \n",
       "loc_id                                                               \n",
       "ELEC.PLANT.GEN.529-SUN-ALL.M      241.0  2004      4    3769.266720  \n",
       "ELEC.PLANT.GEN.529-SUN-ALL.M      234.0  2004      5    4566.855816  \n",
       "ELEC.PLANT.GEN.10444-SUN-ALL.M  19249.0  2004      6    4905.831182  \n",
       "ELEC.PLANT.GEN.10446-SUN-ALL.M  18952.0  2004      6    4905.831182  \n",
       "ELEC.PLANT.GEN.10441-SUN-ALL.M  10447.0  2004      6    4905.831182  "
      ]
     },
     "execution_count": 145,
     "metadata": {},
     "output_type": "execute_result"
    }
   ],
   "source": [
    "monthly_pred_df.head()"
   ]
  },
  {
   "cell_type": "code",
   "execution_count": 77,
   "metadata": {
    "collapsed": false
   },
   "outputs": [
    {
     "name": "stderr",
     "output_type": "stream",
     "text": [
      "/data/anaconda2/lib/python2.7/site-packages/matplotlib/font_manager.py:273: UserWarning: Matplotlib is building the font cache using fc-list. This may take a moment.\n",
      "  warnings.warn('Matplotlib is building the font cache using fc-list. This may take a moment.')\n"
     ]
    }
   ],
   "source": [
    "%matplotlib inline\n",
    "import matplotlib.pyplot as plt"
   ]
  },
  {
   "cell_type": "code",
   "execution_count": 86,
   "metadata": {
    "collapsed": false
   },
   "outputs": [
    {
     "data": {
      "image/png": "[encoded data removed]",
      "text/plain": [
       "<matplotlib.figure.Figure at 0x7f2b969dfad0>"
      ]
     },
     "metadata": {},
     "output_type": "display_data"
    }
   ],
   "source": [
    "cm = plt.cm.get_cmap('RdYlBu')\n",
    "sc = plt.scatter(clean_df.solar_radiation, clean_df.mwh, c=clean_df.lat)\n",
    "plt.xlabel('solar radiation')\n",
    "plt.ylabel('mwh')\n",
    "plt.colorbar(sc)\n",
    "plt.show()"
   ]
  },
  {
   "cell_type": "code",
   "execution_count": 146,
   "metadata": {
    "collapsed": true
   },
   "outputs": [],
   "source": [
    "# re index for groupbys\n",
    "clean_df.reset_index(level=0, inplace=True)"
   ]
  },
  {
   "cell_type": "code",
   "execution_count": 147,
   "metadata": {
    "collapsed": true
   },
   "outputs": [],
   "source": [
    "# separate out this year's data\n",
    "current_year = max(clean_df.year) #2016\n",
    "current_df = clean_df[clean_df.year == current_year] # 841 entries, 115 unique\n",
    "current_df.reset_index(level=0, inplace=True)\n",
    "current_month = max(current_df.month) #9\n",
    "current_mwh = current_df.groupby(['loc_id'])['mwh'].sum() # 115"
   ]
  },
  {
   "cell_type": "code",
   "execution_count": 183,
   "metadata": {
    "collapsed": false
   },
   "outputs": [],
   "source": [
    "# how does this compare to last year at this time?\n",
    "last_year = clean_df[clean_df.year == current_year - 1]\n",
    "this_time_last_year = last_year[last_year.month <= current_month]\n",
    "totals = last_year.groupby(['loc_id'])['mwh'].sum()\n",
    "partials = this_time_last_year.groupby(['loc_id'])['mwh'].sum()\n",
    "percent = totals / partials"
   ]
  },
  {
   "cell_type": "code",
   "execution_count": 188,
   "metadata": {
    "collapsed": false
   },
   "outputs": [],
   "source": [
    "forcast_df = current_mwh * percent"
   ]
  },
  {
   "cell_type": "code",
   "execution_count": 192,
   "metadata": {
    "collapsed": false
   },
   "outputs": [],
   "source": [
    "forcast_df = forcast_df[~np.isnan(forcast_df)]"
   ]
  },
  {
   "cell_type": "code",
   "execution_count": 199,
   "metadata": {
    "collapsed": true
   },
   "outputs": [],
   "source": [
    "def forcast_yearend_mwh(clean_df):\n",
    "    \"\"\"\n",
    "    Given a train_df with with loc_id, year, month, and mwh,\n",
    "    this function returns a df with the loc_id and a year end forcast of\n",
    "    total energy generated at that location.\n",
    "    \"\"\"\n",
    "    # re index for groupbys\n",
    "    clean_df.reset_index(level=0, inplace=True)\n",
    "\n",
    "    # separate out this year's data\n",
    "    current_year = max(clean_df.year)\n",
    "    current_df = clean_df[clean_df.year == current_year]\n",
    "    current_df.reset_index(level=0, inplace=True)\n",
    "    current_month = max(current_df.month)\n",
    "    current_mwh = current_df.groupby(['loc_id'])['mwh'].sum()\n",
    "\n",
    "    # how does this compare to last year at this time?\n",
    "    last_year = clean_df[clean_df.year == current_year - 1]\n",
    "    this_time_last_year = last_year[last_year.month <= current_month]\n",
    "    totals = last_year.groupby(['loc_id'])['mwh'].sum()\n",
    "    partials = this_time_last_year.groupby(['loc_id'])['mwh'].sum()\n",
    "    percent = totals / partials\n",
    "\n",
    "    # forcast = current total * percent\n",
    "    forcast_df = current_mwh * percent\n",
    "    forcast_df = forcast_df[~np.isnan(forcast_df)]\n",
    "    return forcast_df"
   ]
  },
  {
   "cell_type": "code",
   "execution_count": 201,
   "metadata": {
    "collapsed": false
   },
   "outputs": [],
   "source": [
    "fc = forcast_yearend_mwh(clean_df)"
   ]
  },
  {
   "cell_type": "markdown",
   "metadata": {},
   "source": [
    "### confirming script "
   ]
  },
  {
   "cell_type": "code",
   "execution_count": 212,
   "metadata": {
    "collapsed": true
   },
   "outputs": [],
   "source": [
    "db_loc = 'postgresql+psycopg2://teamsunshinedemo:oscarisawesome123'\n",
    "db_loc += '@teamsunshinedemo.coga7nzsvf0h.us-east-1.rds.amazonaws.com:'\n",
    "db_loc += '5432/solarenergy'\n",
    "engine = create_engine(db_loc)"
   ]
  },
  {
   "cell_type": "code",
   "execution_count": 213,
   "metadata": {
    "collapsed": true
   },
   "outputs": [],
   "source": [
    "test = pd.read_sql('SELECT * FROM yearend_forcast', engine, index_col = 'loc_id')"
   ]
  },
  {
   "cell_type": "code",
   "execution_count": 215,
   "metadata": {
    "collapsed": false
   },
   "outputs": [
    {
     "data": {
      "text/html": [
       "<div>\n",
       "<table border=\"1\" class=\"dataframe\">\n",
       "  <thead>\n",
       "    <tr style=\"text-align: right;\">\n",
       "      <th></th>\n",
       "      <th>mwh</th>\n",
       "    </tr>\n",
       "    <tr>\n",
       "      <th>loc_id</th>\n",
       "      <th></th>\n",
       "    </tr>\n",
       "  </thead>\n",
       "  <tbody>\n",
       "    <tr>\n",
       "      <th>ELEC.PLANT.GEN.10439-SUN-ALL.M</th>\n",
       "      <td>47468.352139</td>\n",
       "    </tr>\n",
       "    <tr>\n",
       "      <th>ELEC.PLANT.GEN.10440-SUN-ALL.M</th>\n",
       "      <td>49480.104658</td>\n",
       "    </tr>\n",
       "    <tr>\n",
       "      <th>ELEC.PLANT.GEN.10441-SUN-ALL.M</th>\n",
       "      <td>50809.824461</td>\n",
       "    </tr>\n",
       "    <tr>\n",
       "      <th>ELEC.PLANT.GEN.10442-SUN-ALL.M</th>\n",
       "      <td>41200.800087</td>\n",
       "    </tr>\n",
       "    <tr>\n",
       "      <th>ELEC.PLANT.GEN.10443-SUN-ALL.M</th>\n",
       "      <td>30234.991933</td>\n",
       "    </tr>\n",
       "  </tbody>\n",
       "</table>\n",
       "</div>"
      ],
      "text/plain": [
       "                                         mwh\n",
       "loc_id                                      \n",
       "ELEC.PLANT.GEN.10439-SUN-ALL.M  47468.352139\n",
       "ELEC.PLANT.GEN.10440-SUN-ALL.M  49480.104658\n",
       "ELEC.PLANT.GEN.10441-SUN-ALL.M  50809.824461\n",
       "ELEC.PLANT.GEN.10442-SUN-ALL.M  41200.800087\n",
       "ELEC.PLANT.GEN.10443-SUN-ALL.M  30234.991933"
      ]
     },
     "execution_count": 215,
     "metadata": {},
     "output_type": "execute_result"
    }
   ],
   "source": [
    "test.head()"
   ]
  },
  {
   "cell_type": "code",
   "execution_count": 216,
   "metadata": {
    "collapsed": true
   },
   "outputs": [],
   "source": [
    "test2 = pd.read_sql('SELECT * FROM monthly_predictions', engine, index_col = 'loc_id')"
   ]
  },
  {
   "cell_type": "code",
   "execution_count": 217,
   "metadata": {
    "collapsed": false
   },
   "outputs": [
    {
     "data": {
      "text/html": [
       "<div>\n",
       "<table border=\"1\" class=\"dataframe\">\n",
       "  <thead>\n",
       "    <tr style=\"text-align: right;\">\n",
       "      <th></th>\n",
       "      <th>lat</th>\n",
       "      <th>long</th>\n",
       "      <th>solar_radiation</th>\n",
       "      <th>mwh</th>\n",
       "      <th>year</th>\n",
       "      <th>month</th>\n",
       "      <th>predicted_mwh</th>\n",
       "    </tr>\n",
       "    <tr>\n",
       "      <th>loc_id</th>\n",
       "      <th></th>\n",
       "      <th></th>\n",
       "      <th></th>\n",
       "      <th></th>\n",
       "      <th></th>\n",
       "      <th></th>\n",
       "      <th></th>\n",
       "    </tr>\n",
       "  </thead>\n",
       "  <tbody>\n",
       "    <tr>\n",
       "      <th>ELEC.PLANT.GEN.529-SUN-ALL.M</th>\n",
       "      <td>38.340015</td>\n",
       "      <td>-121.113861</td>\n",
       "      <td>23.9</td>\n",
       "      <td>241.0</td>\n",
       "      <td>2004</td>\n",
       "      <td>4</td>\n",
       "      <td>3135.788050</td>\n",
       "    </tr>\n",
       "    <tr>\n",
       "      <th>ELEC.PLANT.GEN.529-SUN-ALL.M</th>\n",
       "      <td>38.340015</td>\n",
       "      <td>-121.113861</td>\n",
       "      <td>27.9</td>\n",
       "      <td>234.0</td>\n",
       "      <td>2004</td>\n",
       "      <td>5</td>\n",
       "      <td>3822.466714</td>\n",
       "    </tr>\n",
       "    <tr>\n",
       "      <th>ELEC.PLANT.GEN.10444-SUN-ALL.M</th>\n",
       "      <td>35.030800</td>\n",
       "      <td>-117.356300</td>\n",
       "      <td>29.6</td>\n",
       "      <td>19249.0</td>\n",
       "      <td>2004</td>\n",
       "      <td>6</td>\n",
       "      <td>4814.460482</td>\n",
       "    </tr>\n",
       "    <tr>\n",
       "      <th>ELEC.PLANT.GEN.10446-SUN-ALL.M</th>\n",
       "      <td>35.033000</td>\n",
       "      <td>-117.338000</td>\n",
       "      <td>29.6</td>\n",
       "      <td>18952.0</td>\n",
       "      <td>2004</td>\n",
       "      <td>6</td>\n",
       "      <td>4814.004113</td>\n",
       "    </tr>\n",
       "    <tr>\n",
       "      <th>ELEC.PLANT.GEN.10441-SUN-ALL.M</th>\n",
       "      <td>35.019480</td>\n",
       "      <td>-117.555530</td>\n",
       "      <td>29.6</td>\n",
       "      <td>10447.0</td>\n",
       "      <td>2004</td>\n",
       "      <td>6</td>\n",
       "      <td>4816.808710</td>\n",
       "    </tr>\n",
       "  </tbody>\n",
       "</table>\n",
       "</div>"
      ],
      "text/plain": [
       "                                      lat        long  solar_radiation  \\\n",
       "loc_id                                                                   \n",
       "ELEC.PLANT.GEN.529-SUN-ALL.M    38.340015 -121.113861             23.9   \n",
       "ELEC.PLANT.GEN.529-SUN-ALL.M    38.340015 -121.113861             27.9   \n",
       "ELEC.PLANT.GEN.10444-SUN-ALL.M  35.030800 -117.356300             29.6   \n",
       "ELEC.PLANT.GEN.10446-SUN-ALL.M  35.033000 -117.338000             29.6   \n",
       "ELEC.PLANT.GEN.10441-SUN-ALL.M  35.019480 -117.555530             29.6   \n",
       "\n",
       "                                    mwh  year  month  predicted_mwh  \n",
       "loc_id                                                               \n",
       "ELEC.PLANT.GEN.529-SUN-ALL.M      241.0  2004      4    3135.788050  \n",
       "ELEC.PLANT.GEN.529-SUN-ALL.M      234.0  2004      5    3822.466714  \n",
       "ELEC.PLANT.GEN.10444-SUN-ALL.M  19249.0  2004      6    4814.460482  \n",
       "ELEC.PLANT.GEN.10446-SUN-ALL.M  18952.0  2004      6    4814.004113  \n",
       "ELEC.PLANT.GEN.10441-SUN-ALL.M  10447.0  2004      6    4816.808710  "
      ]
     },
     "execution_count": 217,
     "metadata": {},
     "output_type": "execute_result"
    }
   ],
   "source": [
    "test2.head()"
   ]
  },
  {
   "cell_type": "code",
   "execution_count": null,
   "metadata": {
    "collapsed": true
   },
   "outputs": [],
   "source": []
  }
 ],
 "metadata": {
  "anaconda-cloud": {},
  "kernelspec": {
   "display_name": "Python [conda root]",
   "language": "python",
   "name": "conda-root-py"
  },
  "language_info": {
   "codemirror_mode": {
    "name": "ipython",
    "version": 2
   },
   "file_extension": ".py",
   "mimetype": "text/x-python",
   "name": "python",
   "nbconvert_exporter": "python",
   "pygments_lexer": "ipython2",
   "version": "2.7.12"
  }
 },
 "nbformat": 4,
 "nbformat_minor": 1
}
