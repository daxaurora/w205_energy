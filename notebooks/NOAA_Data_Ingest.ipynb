{
 "cells": [
  {
   "cell_type": "markdown",
   "metadata": {},
   "source": [
    "__W205, Fall 2016__\n",
    "__Final Project:__ Solar Fields and Weather\n",
    "__Group:__ Boris Kletser, Maya Miller-Vedam, Geoff Striling, Laura Williams\n",
    "# NOAA Data Ingest\n",
    "OVERVIEW: This is just a file to help me learn how to load data from the NOAA website into a postgres table... This code will eventually live in a script called __data_ingest_noaa.py__."
   ]
  },
  {
   "cell_type": "code",
   "execution_count": 2,
   "metadata": {
    "collapsed": false
   },
   "outputs": [],
   "source": [
    "# imports\n",
    "from __future__ import absolute_import, print_function, unicode_literals\n",
    "import os\n",
    "import requests\n",
    "import numpy as np\n",
    "import pandas as pd\n",
    "import psycopg2\n",
    "from psycopg2.extensions import ISOLATION_LEVEL_AUTOCOMMIT"
   ]
  },
  {
   "cell_type": "code",
   "execution_count": null,
   "metadata": {
    "collapsed": true
   },
   "outputs": [],
   "source": [
    "# save working directory to be reset at the end\n",
    "initial_directory = os.getcwd()\n",
    "os.chdir('/Users/mmillervedam/Documents/MIDS/W205/FinalProject')"
   ]
  },
  {
   "cell_type": "code",
   "execution_count": 18,
   "metadata": {
    "collapsed": false
   },
   "outputs": [],
   "source": [
    "# import functions for creating/recreating the postgres database & tables\n",
    "from setup import create_database, create_tables"
   ]
  },
  {
   "cell_type": "markdown",
   "metadata": {},
   "source": [
    "### Set Up"
   ]
  },
  {
   "cell_type": "code",
   "execution_count": null,
   "metadata": {
    "collapsed": true
   },
   "outputs": [],
   "source": [
    "# Globals\n",
    "STATIONS_URL = 'http://www1.ncdc.noaa.gov/pub/data/uscrn/products/stations.tsv'"
   ]
  },
  {
   "cell_type": "code",
   "execution_count": null,
   "metadata": {
    "collapsed": true
   },
   "outputs": [],
   "source": [
    "# helper function\n",
    "def get_noaa_url(wban, stations_df):\n",
    "    \"\"\" Function to take a wban number and output a url.\"\"\"\n",
    "    base = 'http://www1.ncdc.noaa.gov/pub/data/uscrn/products/monthly01/CRNM0102-'\n",
    "    station = '_'.join(stations_df.loc[str(wban),['STATE', 'LOCATION', 'VECTOR']])\n",
    "    return base + station.replace(' ','_') + '.txt'"
   ]
  },
  {
   "cell_type": "markdown",
   "metadata": {},
   "source": [
    "### Ingest Stations Table from NOAA"
   ]
  },
  {
   "cell_type": "code",
   "execution_count": 6,
   "metadata": {
    "collapsed": false
   },
   "outputs": [
    {
     "data": {
      "text/html": [
       "<div>\n",
       "<table border=\"1\" class=\"dataframe\">\n",
       "  <thead>\n",
       "    <tr style=\"text-align: right;\">\n",
       "      <th></th>\n",
       "      <th>COUNTRY</th>\n",
       "      <th>STATE</th>\n",
       "      <th>LOCATION</th>\n",
       "      <th>VECTOR</th>\n",
       "      <th>NAME</th>\n",
       "      <th>LATITUDE</th>\n",
       "      <th>LONGITUDE</th>\n",
       "      <th>ELEVATION</th>\n",
       "      <th>STATUS</th>\n",
       "      <th>COMMISSIONING</th>\n",
       "      <th>CLOSING</th>\n",
       "      <th>OPERATION</th>\n",
       "      <th>PAIRING</th>\n",
       "      <th>NETWORK</th>\n",
       "    </tr>\n",
       "    <tr>\n",
       "      <th>WBAN</th>\n",
       "      <th></th>\n",
       "      <th></th>\n",
       "      <th></th>\n",
       "      <th></th>\n",
       "      <th></th>\n",
       "      <th></th>\n",
       "      <th></th>\n",
       "      <th></th>\n",
       "      <th></th>\n",
       "      <th></th>\n",
       "      <th></th>\n",
       "      <th></th>\n",
       "      <th></th>\n",
       "      <th></th>\n",
       "    </tr>\n",
       "  </thead>\n",
       "  <tbody>\n",
       "    <tr>\n",
       "      <th>03047</th>\n",
       "      <td>US</td>\n",
       "      <td>TX</td>\n",
       "      <td>Monahans</td>\n",
       "      <td>6 ENE</td>\n",
       "      <td>Sandhills State Park</td>\n",
       "      <td>31.62</td>\n",
       "      <td>-102.80</td>\n",
       "      <td>2724</td>\n",
       "      <td>Commissioned</td>\n",
       "      <td>2004-01-11 19:00:00.0</td>\n",
       "      <td>NaN</td>\n",
       "      <td>Operational</td>\n",
       "      <td>NaN</td>\n",
       "      <td>USCRN</td>\n",
       "    </tr>\n",
       "    <tr>\n",
       "      <th>03048</th>\n",
       "      <td>US</td>\n",
       "      <td>NM</td>\n",
       "      <td>Socorro</td>\n",
       "      <td>20 N</td>\n",
       "      <td>Sevilleta National Wildlife Refuge (LTER Site)</td>\n",
       "      <td>34.35</td>\n",
       "      <td>-106.88</td>\n",
       "      <td>4847</td>\n",
       "      <td>Commissioned</td>\n",
       "      <td>2004-01-11 19:00:00.0</td>\n",
       "      <td>NaN</td>\n",
       "      <td>Operational</td>\n",
       "      <td>NaN</td>\n",
       "      <td>USCRN</td>\n",
       "    </tr>\n",
       "    <tr>\n",
       "      <th>03054</th>\n",
       "      <td>US</td>\n",
       "      <td>TX</td>\n",
       "      <td>Muleshoe</td>\n",
       "      <td>19 S</td>\n",
       "      <td>Muleshoe National Wildlife Refuge (Headquarter...</td>\n",
       "      <td>33.95</td>\n",
       "      <td>-102.77</td>\n",
       "      <td>3742</td>\n",
       "      <td>Commissioned</td>\n",
       "      <td>2004-04-22 20:00:00.0</td>\n",
       "      <td>NaN</td>\n",
       "      <td>Operational</td>\n",
       "      <td>NaN</td>\n",
       "      <td>USCRN</td>\n",
       "    </tr>\n",
       "    <tr>\n",
       "      <th>03055</th>\n",
       "      <td>US</td>\n",
       "      <td>OK</td>\n",
       "      <td>Goodwell</td>\n",
       "      <td>2 E</td>\n",
       "      <td>OK  Panhandle Research &amp; Extn. Center (Native ...</td>\n",
       "      <td>36.59</td>\n",
       "      <td>-101.59</td>\n",
       "      <td>3266</td>\n",
       "      <td>Commissioned</td>\n",
       "      <td>2004-04-22 20:00:00.0</td>\n",
       "      <td>NaN</td>\n",
       "      <td>Operational</td>\n",
       "      <td>NaN</td>\n",
       "      <td>USCRN</td>\n",
       "    </tr>\n",
       "    <tr>\n",
       "      <th>03060</th>\n",
       "      <td>US</td>\n",
       "      <td>CO</td>\n",
       "      <td>Montrose</td>\n",
       "      <td>11 ENE</td>\n",
       "      <td>Black Canyon of the Gunnison National Park (Ve...</td>\n",
       "      <td>38.54</td>\n",
       "      <td>-107.69</td>\n",
       "      <td>8402</td>\n",
       "      <td>Commissioned</td>\n",
       "      <td>2004-09-07 20:00:00.0</td>\n",
       "      <td>NaN</td>\n",
       "      <td>Operational</td>\n",
       "      <td>NaN</td>\n",
       "      <td>USCRN</td>\n",
       "    </tr>\n",
       "  </tbody>\n",
       "</table>\n",
       "</div>"
      ],
      "text/plain": [
       "      COUNTRY STATE  LOCATION  VECTOR  \\\n",
       "WBAN                                    \n",
       "03047      US    TX  Monahans   6 ENE   \n",
       "03048      US    NM   Socorro    20 N   \n",
       "03054      US    TX  Muleshoe    19 S   \n",
       "03055      US    OK  Goodwell     2 E   \n",
       "03060      US    CO  Montrose  11 ENE   \n",
       "\n",
       "                                                    NAME  LATITUDE  LONGITUDE  \\\n",
       "WBAN                                                                            \n",
       "03047                               Sandhills State Park     31.62    -102.80   \n",
       "03048     Sevilleta National Wildlife Refuge (LTER Site)     34.35    -106.88   \n",
       "03054  Muleshoe National Wildlife Refuge (Headquarter...     33.95    -102.77   \n",
       "03055  OK  Panhandle Research & Extn. Center (Native ...     36.59    -101.59   \n",
       "03060  Black Canyon of the Gunnison National Park (Ve...     38.54    -107.69   \n",
       "\n",
       "      ELEVATION        STATUS          COMMISSIONING CLOSING    OPERATION  \\\n",
       "WBAN                                                                        \n",
       "03047      2724  Commissioned  2004-01-11 19:00:00.0     NaN  Operational   \n",
       "03048      4847  Commissioned  2004-01-11 19:00:00.0     NaN  Operational   \n",
       "03054      3742  Commissioned  2004-04-22 20:00:00.0     NaN  Operational   \n",
       "03055      3266  Commissioned  2004-04-22 20:00:00.0     NaN  Operational   \n",
       "03060      8402  Commissioned  2004-09-07 20:00:00.0     NaN  Operational   \n",
       "\n",
       "       PAIRING NETWORK  \n",
       "WBAN                    \n",
       "03047      NaN   USCRN  \n",
       "03048      NaN   USCRN  \n",
       "03054      NaN   USCRN  \n",
       "03055      NaN   USCRN  \n",
       "03060      NaN   USCRN  "
      ]
     },
     "execution_count": 6,
     "metadata": {},
     "output_type": "execute_result"
    }
   ],
   "source": [
    "# load USCERN stations indexed by their WBAN ID numbers\n",
    "stations_df = pd.read_csv(url, sep = '\\t', header=0, index_col = 'WBAN')\n",
    "stations_df.head()"
   ]
  },
  {
   "cell_type": "code",
   "execution_count": 10,
   "metadata": {
    "collapsed": false
   },
   "outputs": [
    {
     "data": {
      "text/html": [
       "<div>\n",
       "<table border=\"1\" class=\"dataframe\">\n",
       "  <thead>\n",
       "    <tr style=\"text-align: right;\">\n",
       "      <th></th>\n",
       "      <th>NAME</th>\n",
       "      <th>LOCATION</th>\n",
       "      <th>VECTOR</th>\n",
       "      <th>STATE</th>\n",
       "      <th>LATITUDE</th>\n",
       "      <th>LONGITUDE</th>\n",
       "      <th>ELEVATION</th>\n",
       "    </tr>\n",
       "    <tr>\n",
       "      <th>WBAN</th>\n",
       "      <th></th>\n",
       "      <th></th>\n",
       "      <th></th>\n",
       "      <th></th>\n",
       "      <th></th>\n",
       "      <th></th>\n",
       "      <th></th>\n",
       "    </tr>\n",
       "  </thead>\n",
       "  <tbody>\n",
       "    <tr>\n",
       "      <th>03047</th>\n",
       "      <td>Sandhills State Park</td>\n",
       "      <td>Monahans</td>\n",
       "      <td>6 ENE</td>\n",
       "      <td>TX</td>\n",
       "      <td>31.62</td>\n",
       "      <td>-102.80</td>\n",
       "      <td>2724</td>\n",
       "    </tr>\n",
       "    <tr>\n",
       "      <th>03048</th>\n",
       "      <td>Sevilleta National Wildlife Refuge (LTER Site)</td>\n",
       "      <td>Socorro</td>\n",
       "      <td>20 N</td>\n",
       "      <td>NM</td>\n",
       "      <td>34.35</td>\n",
       "      <td>-106.88</td>\n",
       "      <td>4847</td>\n",
       "    </tr>\n",
       "    <tr>\n",
       "      <th>03054</th>\n",
       "      <td>Muleshoe National Wildlife Refuge (Headquarter...</td>\n",
       "      <td>Muleshoe</td>\n",
       "      <td>19 S</td>\n",
       "      <td>TX</td>\n",
       "      <td>33.95</td>\n",
       "      <td>-102.77</td>\n",
       "      <td>3742</td>\n",
       "    </tr>\n",
       "    <tr>\n",
       "      <th>03055</th>\n",
       "      <td>OK  Panhandle Research &amp; Extn. Center (Native ...</td>\n",
       "      <td>Goodwell</td>\n",
       "      <td>2 E</td>\n",
       "      <td>OK</td>\n",
       "      <td>36.59</td>\n",
       "      <td>-101.59</td>\n",
       "      <td>3266</td>\n",
       "    </tr>\n",
       "    <tr>\n",
       "      <th>03060</th>\n",
       "      <td>Black Canyon of the Gunnison National Park (Ve...</td>\n",
       "      <td>Montrose</td>\n",
       "      <td>11 ENE</td>\n",
       "      <td>CO</td>\n",
       "      <td>38.54</td>\n",
       "      <td>-107.69</td>\n",
       "      <td>8402</td>\n",
       "    </tr>\n",
       "  </tbody>\n",
       "</table>\n",
       "</div>"
      ],
      "text/plain": [
       "                                                    NAME  LOCATION  VECTOR  \\\n",
       "WBAN                                                                         \n",
       "03047                               Sandhills State Park  Monahans   6 ENE   \n",
       "03048     Sevilleta National Wildlife Refuge (LTER Site)   Socorro    20 N   \n",
       "03054  Muleshoe National Wildlife Refuge (Headquarter...  Muleshoe    19 S   \n",
       "03055  OK  Panhandle Research & Extn. Center (Native ...  Goodwell     2 E   \n",
       "03060  Black Canyon of the Gunnison National Park (Ve...  Montrose  11 ENE   \n",
       "\n",
       "      STATE  LATITUDE  LONGITUDE ELEVATION  \n",
       "WBAN                                        \n",
       "03047    TX     31.62    -102.80      2724  \n",
       "03048    NM     34.35    -106.88      4847  \n",
       "03054    TX     33.95    -102.77      3742  \n",
       "03055    OK     36.59    -101.59      3266  \n",
       "03060    CO     38.54    -107.69      8402  "
      ]
     },
     "execution_count": 10,
     "metadata": {},
     "output_type": "execute_result"
    }
   ],
   "source": [
    "# select the columns that we'll use\n",
    "stations_df = stations_df[['NAME','LOCATION','VECTOR','STATE','LATITUDE','LONGITUDE','ELEVATION']]\n",
    "stations_df.head()"
   ]
  },
  {
   "cell_type": "markdown",
   "metadata": {},
   "source": [
    "### Load Stations table into Postgres  \n",
    "NOTE: postgres must be running for the following code to work"
   ]
  },
  {
   "cell_type": "code",
   "execution_count": null,
   "metadata": {
    "collapsed": true
   },
   "outputs": [],
   "source": [
    "create_database()"
   ]
  },
  {
   "cell_type": "code",
   "execution_count": null,
   "metadata": {
    "collapsed": true
   },
   "outputs": [],
   "source": [
    "create_tables()"
   ]
  },
  {
   "cell_type": "code",
   "execution_count": null,
   "metadata": {
    "collapsed": true
   },
   "outputs": [],
   "source": [
    "conn = psycopg2.connect(database='solarenergy', user='postgres',\n",
    "                            password='pass', host='localhost', port='5432')"
   ]
  },
  {
   "cell_type": "code",
   "execution_count": null,
   "metadata": {
    "collapsed": true
   },
   "outputs": [],
   "source": [
    "stations.to_sql('weather_stations', conn)"
   ]
  },
  {
   "cell_type": "code",
   "execution_count": null,
   "metadata": {
    "collapsed": true
   },
   "outputs": [],
   "source": [
    "conn.close()"
   ]
  }
 ],
 "metadata": {
  "kernelspec": {
   "display_name": "Python [conda env:w205]",
   "language": "python",
   "name": "conda-env-w205-py"
  },
  "language_info": {
   "codemirror_mode": {
    "name": "ipython",
    "version": 2
   },
   "file_extension": ".py",
   "mimetype": "text/x-python",
   "name": "python",
   "nbconvert_exporter": "python",
   "pygments_lexer": "ipython2",
   "version": "2.7.12"
  }
 },
 "nbformat": 4,
 "nbformat_minor": 0
}
