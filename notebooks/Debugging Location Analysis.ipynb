{
 "cells": [
  {
   "cell_type": "markdown",
   "metadata": {},
   "source": [
    "# Testing Location Linking File\n",
    "\n",
    "All the code here also apears in the data_linking.py file... I'm just using the NB to debug."
   ]
  },
  {
   "cell_type": "code",
   "execution_count": 1,
   "metadata": {
    "collapsed": false
   },
   "outputs": [],
   "source": [
    "# imports\n",
    "# Imports\n",
    "from __future__ import absolute_import, print_function, unicode_literals\n",
    "import numpy as np\n",
    "import pandas as pd\n",
    "import psycopg2\n",
    "from psycopg2.extensions import ISOLATION_LEVEL_AUTOCOMMIT\n",
    "from sqlalchemy import create_engine\n",
    "import vincenty"
   ]
  },
  {
   "cell_type": "code",
   "execution_count": 3,
   "metadata": {
    "collapsed": true
   },
   "outputs": [],
   "source": [
    "# Set up connection to postgres tables\n",
    "db_loc = 'postgresql+psycopg2://teamsunshinedemo:oscarisawesome123'\n",
    "db_loc += '@teamsunshinedemo.coga7nzsvf0h.us-east-1.rds.amazonaws.com:'\n",
    "db_loc += '5432/solarenergy'\n",
    "engine = create_engine(db_loc)"
   ]
  },
  {
   "cell_type": "code",
   "execution_count": 4,
   "metadata": {
    "collapsed": true
   },
   "outputs": [],
   "source": [
    "# get solar locations\n",
    "query = \"\"\"\n",
    "        SELECT DISTINCT loc_id,\n",
    "        CAST(latitude as decimal) AS latitude,\n",
    "        CAST(longitude as decimal) AS longitude\n",
    "        FROM generation\n",
    "        \"\"\"\n",
    "solar_locations_df = pd.read_sql(query, engine, index_col = 'loc_id')"
   ]
  },
  {
   "cell_type": "code",
   "execution_count": 7,
   "metadata": {
    "collapsed": false
   },
   "outputs": [
    {
     "data": {
      "text/html": [
       "<div>\n",
       "<table border=\"1\" class=\"dataframe\">\n",
       "  <thead>\n",
       "    <tr style=\"text-align: right;\">\n",
       "      <th></th>\n",
       "      <th>latitude</th>\n",
       "      <th>longitude</th>\n",
       "    </tr>\n",
       "    <tr>\n",
       "      <th>loc_id</th>\n",
       "      <th></th>\n",
       "      <th></th>\n",
       "    </tr>\n",
       "  </thead>\n",
       "  <tbody>\n",
       "    <tr>\n",
       "      <th>ELEC.PLANT.GEN.56889-SUN-ALL.M</th>\n",
       "      <td>40.727386</td>\n",
       "      <td>-74.378300</td>\n",
       "    </tr>\n",
       "    <tr>\n",
       "      <th>ELEC.PLANT.GEN.58536-SUN-ALL.M</th>\n",
       "      <td>40.352222</td>\n",
       "      <td>-74.187778</td>\n",
       "    </tr>\n",
       "    <tr>\n",
       "      <th>ELEC.PLANT.GEN.59361-SUN-ALL.M</th>\n",
       "      <td>42.200833</td>\n",
       "      <td>-72.322222</td>\n",
       "    </tr>\n",
       "  </tbody>\n",
       "</table>\n",
       "</div>"
      ],
      "text/plain": [
       "                                 latitude  longitude\n",
       "loc_id                                              \n",
       "ELEC.PLANT.GEN.56889-SUN-ALL.M  40.727386 -74.378300\n",
       "ELEC.PLANT.GEN.58536-SUN-ALL.M  40.352222 -74.187778\n",
       "ELEC.PLANT.GEN.59361-SUN-ALL.M  42.200833 -72.322222"
      ]
     },
     "execution_count": 7,
     "metadata": {},
     "output_type": "execute_result"
    }
   ],
   "source": [
    "# take a look\n",
    "solar_locations_df.head(3)"
   ]
  },
  {
   "cell_type": "code",
   "execution_count": 9,
   "metadata": {
    "collapsed": false
   },
   "outputs": [],
   "source": [
    "# get weather locations\n",
    "query = \"\"\"\n",
    "        SELECT DISTINCT wban_id,\n",
    "        CAST(latitude as decimal) AS latitude,\n",
    "        CAST(longitude as decimal) AS longitude\n",
    "        FROM weather_stations\n",
    "        \"\"\"\n",
    "weather_locations_df = pd.read_sql(query, engine, index_col = 'wban_id')"
   ]
  },
  {
   "cell_type": "code",
   "execution_count": 10,
   "metadata": {
    "collapsed": false
   },
   "outputs": [
    {
     "data": {
      "text/html": [
       "<div>\n",
       "<table border=\"1\" class=\"dataframe\">\n",
       "  <thead>\n",
       "    <tr style=\"text-align: right;\">\n",
       "      <th></th>\n",
       "      <th>latitude</th>\n",
       "      <th>longitude</th>\n",
       "    </tr>\n",
       "    <tr>\n",
       "      <th>wban_id</th>\n",
       "      <th></th>\n",
       "      <th></th>\n",
       "    </tr>\n",
       "  </thead>\n",
       "  <tbody>\n",
       "    <tr>\n",
       "      <th>94088</th>\n",
       "      <td>44.51</td>\n",
       "      <td>-104.43</td>\n",
       "    </tr>\n",
       "    <tr>\n",
       "      <th>04237</th>\n",
       "      <td>47.51</td>\n",
       "      <td>-123.81</td>\n",
       "    </tr>\n",
       "    <tr>\n",
       "      <th>23906</th>\n",
       "      <td>28.30</td>\n",
       "      <td>-96.82</td>\n",
       "    </tr>\n",
       "  </tbody>\n",
       "</table>\n",
       "</div>"
      ],
      "text/plain": [
       "         latitude  longitude\n",
       "wban_id                     \n",
       "94088       44.51    -104.43\n",
       "04237       47.51    -123.81\n",
       "23906       28.30     -96.82"
      ]
     },
     "execution_count": 10,
     "metadata": {},
     "output_type": "execute_result"
    }
   ],
   "source": [
    "# take a look\n",
    "weather_locations_df.head(3)"
   ]
  },
  {
   "cell_type": "markdown",
   "metadata": {},
   "source": [
    "### Location Linking"
   ]
  },
  {
   "cell_type": "code",
   "execution_count": 76,
   "metadata": {
    "collapsed": true
   },
   "outputs": [],
   "source": [
    "# trying it out on one station:\n",
    "loc_id = 'ELEC.PLANT.GEN.56889-SUN-ALL.M'\n",
    "solar_df = solar_locations_df\n",
    "uscrn_df = weather_locations_df"
   ]
  },
  {
   "cell_type": "code",
   "execution_count": 77,
   "metadata": {
    "collapsed": false
   },
   "outputs": [
    {
     "name": "stdout",
     "output_type": "stream",
     "text": [
      "(40.727386000000003, -74.378299999999996)\n"
     ]
    }
   ],
   "source": [
    "# store coordinates of solar location\n",
    "solar_loc = solar_df.latitude[loc_id], solar_df.longitude[loc_id]\n",
    "# take a look\n",
    "print(solar_loc)"
   ]
  },
  {
   "cell_type": "code",
   "execution_count": 78,
   "metadata": {
    "collapsed": false
   },
   "outputs": [
    {
     "name": "stdout",
     "output_type": "stream",
     "text": [
      "0\n"
     ]
    },
    {
     "data": {
      "text/html": [
       "<div>\n",
       "<table border=\"1\" class=\"dataframe\">\n",
       "  <thead>\n",
       "    <tr style=\"text-align: right;\">\n",
       "      <th></th>\n",
       "      <th>latitude</th>\n",
       "      <th>longitude</th>\n",
       "    </tr>\n",
       "    <tr>\n",
       "      <th>wban_id</th>\n",
       "      <th></th>\n",
       "      <th></th>\n",
       "    </tr>\n",
       "  </thead>\n",
       "  <tbody>\n",
       "  </tbody>\n",
       "</table>\n",
       "</div>"
      ],
      "text/plain": [
       "Empty DataFrame\n",
       "Columns: [latitude, longitude]\n",
       "Index: []"
      ]
     },
     "execution_count": 78,
     "metadata": {},
     "output_type": "execute_result"
    }
   ],
   "source": [
    "# stations w.in a small radius\n",
    "neighbors =  uscrn_df[0:0]\n",
    "# take a look\n",
    "print(len(neighbors))\n",
    "neighbors"
   ]
  },
  {
   "cell_type": "code",
   "execution_count": 85,
   "metadata": {
    "collapsed": false
   },
   "outputs": [
    {
     "name": "stdout",
     "output_type": "stream",
     "text": [
      "38.727386 42.727386 -76.3783 -72.3783\n"
     ]
    }
   ],
   "source": [
    "radius = 2\n",
    "\n",
    "# range of lat/long to search\n",
    "xmin, xmax = solar_loc[0] - radius, solar_loc[0] + radius\n",
    "ymin, ymax = solar_loc[1] - radius, solar_loc[1] + radius\n",
    "\n",
    "print(xmin, xmax, ymin, ymax)"
   ]
  },
  {
   "cell_type": "code",
   "execution_count": 86,
   "metadata": {
    "collapsed": true
   },
   "outputs": [],
   "source": [
    "lat_r = (uscrn_df.latitude>=xmin)&(uscrn_df.latitude<=xmax)\n",
    "long_r = (uscrn_df.longitude>= ymin)&(uscrn_df.longitude<=ymax)\n",
    "neighbors = uscrn_df[lat_r & long_r]"
   ]
  },
  {
   "cell_type": "code",
   "execution_count": 87,
   "metadata": {
    "collapsed": false
   },
   "outputs": [
    {
     "data": {
      "text/html": [
       "<div>\n",
       "<table border=\"1\" class=\"dataframe\">\n",
       "  <thead>\n",
       "    <tr style=\"text-align: right;\">\n",
       "      <th></th>\n",
       "      <th>latitude</th>\n",
       "      <th>longitude</th>\n",
       "    </tr>\n",
       "    <tr>\n",
       "      <th>wban_id</th>\n",
       "      <th></th>\n",
       "      <th></th>\n",
       "    </tr>\n",
       "  </thead>\n",
       "  <tbody>\n",
       "    <tr>\n",
       "      <th>64756</th>\n",
       "      <td>41.78</td>\n",
       "      <td>-73.74</td>\n",
       "    </tr>\n",
       "    <tr>\n",
       "      <th>64758</th>\n",
       "      <td>42.44</td>\n",
       "      <td>-76.24</td>\n",
       "    </tr>\n",
       "    <tr>\n",
       "      <th>03761</th>\n",
       "      <td>39.85</td>\n",
       "      <td>-75.78</td>\n",
       "    </tr>\n",
       "  </tbody>\n",
       "</table>\n",
       "</div>"
      ],
      "text/plain": [
       "         latitude  longitude\n",
       "wban_id                     \n",
       "64756       41.78     -73.74\n",
       "64758       42.44     -76.24\n",
       "03761       39.85     -75.78"
      ]
     },
     "execution_count": 87,
     "metadata": {},
     "output_type": "execute_result"
    }
   ],
   "source": [
    "neighbors"
   ]
  },
  {
   "cell_type": "code",
   "execution_count": 82,
   "metadata": {
    "collapsed": false
   },
   "outputs": [
    {
     "name": "stdout",
     "output_type": "stream",
     "text": [
      "64756 128.560289\n"
     ]
    }
   ],
   "source": [
    "# find closest neighbor\n",
    "closest_station = None\n",
    "dist_to_closest_station = np.inf\n",
    "for wban_id, (lat, lng) in neighbors.iterrows():\n",
    "    dist = vincenty.vincenty((lat, lng), solar_loc)\n",
    "    if dist < dist_to_closest_station:\n",
    "        dist_to_closest_station = dist\n",
    "        closest_station = wban_id\n",
    "\n",
    "print(closest_station, dist_to_closest_station)"
   ]
  },
  {
   "cell_type": "code",
   "execution_count": 96,
   "metadata": {
    "collapsed": true
   },
   "outputs": [],
   "source": [
    "def find_closest_station(loc_id, solar_df, uscrn_df):\n",
    "    \"\"\"\n",
    "    This is a helper function to find the closest weather station\n",
    "    given the id of a solar location.\n",
    "    \"\"\"\n",
    "    # store coordinates of solar location\n",
    "    solar_loc = solar_df.latitude[loc_id], solar_df.longitude[loc_id]\n",
    "\n",
    "    # stations w.in a small radius\n",
    "    neighbors =  uscrn_df[0:0]\n",
    "    radius = 1\n",
    "    while len(neighbors) == 0:\n",
    "        # range of lat/long to search\n",
    "        xmin, xmax = solar_loc[0] - radius, solar_loc[0] + radius\n",
    "        ymin, ymax = solar_loc[1] - radius, solar_loc[1] + radius\n",
    "        \n",
    "        # pull stations in that range\n",
    "        lat_r = (uscrn_df.latitude>=xmin)&(uscrn_df.latitude<=xmax)\n",
    "        long_r = (uscrn_df.longitude>=ymin)&(uscrn_df.longitude<=ymax)\n",
    "        neighbors = uscrn_df[lat_r & long_r]\n",
    "        radius += 1\n",
    "\n",
    "    # find closest neighbor\n",
    "    closest_station = None\n",
    "    dist_to_closest_station = np.inf\n",
    "    for wban_id, (lat, lng) in neighbors.iterrows():\n",
    "        dist = vincenty.vincenty((lat, lng), solar_loc)\n",
    "        if dist < dist_to_closest_station:\n",
    "            dist_to_closest_station = dist\n",
    "            closest_station = wban_id\n",
    "\n",
    "    return closest_station, dist_to_closest_station"
   ]
  },
  {
   "cell_type": "code",
   "execution_count": 97,
   "metadata": {
    "collapsed": false
   },
   "outputs": [
    {
     "data": {
      "text/plain": [
       "(u'64756', 128.560289)"
      ]
     },
     "execution_count": 97,
     "metadata": {},
     "output_type": "execute_result"
    }
   ],
   "source": [
    "find_closest_station(loc_id, solar_df, uscrn_df)"
   ]
  },
  {
   "cell_type": "code",
   "execution_count": 99,
   "metadata": {
    "collapsed": false
   },
   "outputs": [
    {
     "data": {
      "text/html": [
       "<div>\n",
       "<table border=\"1\" class=\"dataframe\">\n",
       "  <thead>\n",
       "    <tr style=\"text-align: right;\">\n",
       "      <th></th>\n",
       "      <th>latitude</th>\n",
       "      <th>longitude</th>\n",
       "    </tr>\n",
       "    <tr>\n",
       "      <th>loc_id</th>\n",
       "      <th></th>\n",
       "      <th></th>\n",
       "    </tr>\n",
       "  </thead>\n",
       "  <tbody>\n",
       "    <tr>\n",
       "      <th>ELEC.PLANT.GEN.56889-SUN-ALL.M</th>\n",
       "      <td>40.727386</td>\n",
       "      <td>-74.378300</td>\n",
       "    </tr>\n",
       "    <tr>\n",
       "      <th>ELEC.PLANT.GEN.58536-SUN-ALL.M</th>\n",
       "      <td>40.352222</td>\n",
       "      <td>-74.187778</td>\n",
       "    </tr>\n",
       "    <tr>\n",
       "      <th>ELEC.PLANT.GEN.59361-SUN-ALL.M</th>\n",
       "      <td>42.200833</td>\n",
       "      <td>-72.322222</td>\n",
       "    </tr>\n",
       "    <tr>\n",
       "      <th>ELEC.PLANT.GEN.57485-SUN-ALL.M</th>\n",
       "      <td>40.483888</td>\n",
       "      <td>-74.856666</td>\n",
       "    </tr>\n",
       "    <tr>\n",
       "      <th>ELEC.PLANT.GEN.59956-SUN-ALL.M</th>\n",
       "      <td>35.526200</td>\n",
       "      <td>-78.289800</td>\n",
       "    </tr>\n",
       "    <tr>\n",
       "      <th>ELEC.PLANT.GEN.58540-SUN-ALL.M</th>\n",
       "      <td>32.713889</td>\n",
       "      <td>-108.248056</td>\n",
       "    </tr>\n",
       "    <tr>\n",
       "      <th>ELEC.PLANT.GEN.58373-SUN-ALL.M</th>\n",
       "      <td>35.871389</td>\n",
       "      <td>-119.462500</td>\n",
       "    </tr>\n",
       "    <tr>\n",
       "      <th>ELEC.PLANT.GEN.58561-SUN-ALL.M</th>\n",
       "      <td>42.833056</td>\n",
       "      <td>-70.991944</td>\n",
       "    </tr>\n",
       "    <tr>\n",
       "      <th>ELEC.PLANT.GEN.58315-SUN-ALL.M</th>\n",
       "      <td>35.779167</td>\n",
       "      <td>-81.175556</td>\n",
       "    </tr>\n",
       "    <tr>\n",
       "      <th>ELEC.PLANT.GEN.58604-SUN-ALL.M</th>\n",
       "      <td>38.402778</td>\n",
       "      <td>-112.988889</td>\n",
       "    </tr>\n",
       "  </tbody>\n",
       "</table>\n",
       "</div>"
      ],
      "text/plain": [
       "                                 latitude   longitude\n",
       "loc_id                                               \n",
       "ELEC.PLANT.GEN.56889-SUN-ALL.M  40.727386  -74.378300\n",
       "ELEC.PLANT.GEN.58536-SUN-ALL.M  40.352222  -74.187778\n",
       "ELEC.PLANT.GEN.59361-SUN-ALL.M  42.200833  -72.322222\n",
       "ELEC.PLANT.GEN.57485-SUN-ALL.M  40.483888  -74.856666\n",
       "ELEC.PLANT.GEN.59956-SUN-ALL.M  35.526200  -78.289800\n",
       "ELEC.PLANT.GEN.58540-SUN-ALL.M  32.713889 -108.248056\n",
       "ELEC.PLANT.GEN.58373-SUN-ALL.M  35.871389 -119.462500\n",
       "ELEC.PLANT.GEN.58561-SUN-ALL.M  42.833056  -70.991944\n",
       "ELEC.PLANT.GEN.58315-SUN-ALL.M  35.779167  -81.175556\n",
       "ELEC.PLANT.GEN.58604-SUN-ALL.M  38.402778 -112.988889"
      ]
     },
     "execution_count": 99,
     "metadata": {},
     "output_type": "execute_result"
    }
   ],
   "source": [
    "mini = solar_df.head(10)\n",
    "mini"
   ]
  },
  {
   "cell_type": "code",
   "execution_count": 102,
   "metadata": {
    "collapsed": false
   },
   "outputs": [],
   "source": [
    "def find_closest_station(solar_loc, uscrn_df):\n",
    "    \"\"\"\n",
    "    This is a helper function to find the closest weather station\n",
    "    given the id of a solar location.\n",
    "    \"\"\"\n",
    "    # store coordinates of solar location\n",
    "    # solar_loc = solar_df.latitude[loc_id], solar_df.longitude[loc_id]\n",
    "\n",
    "    # stations w.in a small radius\n",
    "    neighbors =  uscrn_df[0:0]\n",
    "    radius = 1\n",
    "    while len(neighbors) == 0:\n",
    "        # range of lat/long to search\n",
    "        xmin, xmax = solar_loc[0] - radius, solar_loc[0] + radius\n",
    "        ymin, ymax = solar_loc[1] - radius, solar_loc[1] + radius\n",
    "        \n",
    "        # pull stations in that range\n",
    "        lat_r = (uscrn_df.latitude>=xmin)&(uscrn_df.latitude<=xmax)\n",
    "        long_r = (uscrn_df.longitude>=ymin)&(uscrn_df.longitude<=ymax)\n",
    "        neighbors = uscrn_df[lat_r & long_r]\n",
    "        radius += 1\n",
    "\n",
    "    # find closest neighbor\n",
    "    closest_station = None\n",
    "    dist_to_closest_station = np.inf\n",
    "    for wban_id, (lat, lng) in neighbors.iterrows():\n",
    "        dist = vincenty.vincenty((lat, lng), solar_loc)\n",
    "        if dist < dist_to_closest_station:\n",
    "            dist_to_closest_station = dist\n",
    "            closest_station = wban_id\n",
    "\n",
    "    return closest_station, dist_to_closest_station"
   ]
  },
  {
   "cell_type": "code",
   "execution_count": 118,
   "metadata": {
    "collapsed": false
   },
   "outputs": [],
   "source": [
    "temp_lst=[]\n",
    "for loc_id, solar_loc in solar_df.iterrows():\n",
    "    wban_id, distance = find_closest_station(solar_loc, uscrn_df)\n",
    "    temp_lst.append([loc_id,wban_id, distance])"
   ]
  },
  {
   "cell_type": "code",
   "execution_count": 120,
   "metadata": {
    "collapsed": false
   },
   "outputs": [],
   "source": [
    "closest_stations_df = pd.DataFrame(lst, columns=['loc_id', 'wban_id','distance'])"
   ]
  },
  {
   "cell_type": "code",
   "execution_count": 123,
   "metadata": {
    "collapsed": false
   },
   "outputs": [],
   "source": [
    "closest_stations = closest_stations_df.set_index('loc_id')"
   ]
  },
  {
   "cell_type": "markdown",
   "metadata": {},
   "source": [
    "# Final pass through functions"
   ]
  },
  {
   "cell_type": "code",
   "execution_count": 3,
   "metadata": {
    "collapsed": true
   },
   "outputs": [],
   "source": [
    "def get_locations(verbose=False):\n",
    "    \"\"\"\n",
    "    This function connect to the postgres DB to pull locations for\n",
    "    solar locations and for weather stations. It returns two dataframes.\n",
    "    \"\"\"\n",
    "    # Set up connection to postgres tables\n",
    "    db_loc = 'postgresql+psycopg2://teamsunshinedemo:oscarisawesome123'\n",
    "    db_loc += '@teamsunshinedemo.coga7nzsvf0h.us-east-1.rds.amazonaws.com:'\n",
    "    db_loc += '5432/solarenergy'\n",
    "    engine = create_engine(db_loc)\n",
    "\n",
    "    # get solar locations\n",
    "    query = \"\"\"\n",
    "            SELECT DISTINCT loc_id,\n",
    "            CAST(latitude as decimal) AS latitude,\n",
    "            CAST(longitude as decimal) AS longitude\n",
    "            FROM generation\n",
    "            \"\"\"\n",
    "    solar_df = pd.read_sql(query, engine, index_col = 'loc_id')\n",
    "    if verbose:\n",
    "        print('... loaded locations for %s solar locations' % (len(solar_df)))\n",
    "    \n",
    "    # get weather locations\n",
    "    query = \"\"\"\n",
    "            SELECT DISTINCT wban_id,\n",
    "            CAST(latitude as decimal) AS latitude,\n",
    "            CAST(longitude as decimal) AS longitude\n",
    "            FROM weather_stations\n",
    "            \"\"\"\n",
    "    uscrn_df = pd.read_sql(query, engine, index_col = 'wban_id')\n",
    "    if verbose:\n",
    "        print('... loaded locations for %s uscrn stations' % (len(uscrn_df)))\n",
    "\n",
    "    return solar_df, uscrn_df"
   ]
  },
  {
   "cell_type": "code",
   "execution_count": 4,
   "metadata": {
    "collapsed": false
   },
   "outputs": [
    {
     "name": "stdout",
     "output_type": "stream",
     "text": [
      "... loaded locations for 1298 solar locations\n",
      "... loaded locations for 233 uscrn stations\n"
     ]
    }
   ],
   "source": [
    "s_df, udf = get_locations(verbose=True)"
   ]
  },
  {
   "cell_type": "code",
   "execution_count": 8,
   "metadata": {
    "collapsed": true
   },
   "outputs": [],
   "source": [
    "def find_closest_station(solar_loc, uscrn_df):\n",
    "    \"\"\"\n",
    "    This is a helper function to find the closest weather station\n",
    "    given solar location and a dataframe with weather station locations.\n",
    "    \"\"\"\n",
    "    # start from subset of stations w.in a small radius\n",
    "    neighbors =  uscrn_df[0:0]\n",
    "    radius = 1\n",
    "    while len(neighbors) == 0:\n",
    "        # range of lat/long to search\n",
    "        xmin, xmax = solar_loc[0] - radius, solar_loc[0] + radius\n",
    "        ymin, ymax = solar_loc[1] - radius, solar_loc[1] + radius\n",
    "\n",
    "        # pull stations in that range\n",
    "        lat_r = (uscrn_df.latitude>=xmin)&(uscrn_df.latitude<=xmax)\n",
    "        long_r = (uscrn_df.longitude>=ymin)&(uscrn_df.longitude<=ymax)\n",
    "        neighbors = uscrn_df[lat_r & long_r]\n",
    "        radius += 1\n",
    "\n",
    "    # find closest neighbor\n",
    "    closest_station = None\n",
    "    dist_to_closest_station = np.inf\n",
    "    for wban_id, (lat, lng) in neighbors.iterrows():\n",
    "        dist = vincenty.vincenty((lat, lng), solar_loc)\n",
    "        if dist < dist_to_closest_station:\n",
    "            dist_to_closest_station = dist\n",
    "            closest_station = wban_id\n",
    "\n",
    "    return closest_station, dist_to_closest_station"
   ]
  },
  {
   "cell_type": "code",
   "execution_count": 11,
   "metadata": {
    "collapsed": true
   },
   "outputs": [],
   "source": [
    "def create_closest_station_df(solar_df, uscrn_df):\n",
    "    \"\"\"\n",
    "    This function creates a new dataframe whose index are location ids\n",
    "    and whose columns are wban_id and distance (of the closest station).\n",
    "    \"\"\"\n",
    "    # iterate through solar locations to get closest station\n",
    "    temp_lst=[]\n",
    "    for loc_id, solar_loc in solar_df.iterrows():\n",
    "        wban_id, distance = find_closest_station(solar_loc, uscrn_df)\n",
    "        temp_lst.append([loc_id,wban_id, distance])\n",
    "\n",
    "    # put results in a data frame\n",
    "    cols = ['loc_id', 'wban_id','distance']\n",
    "    closest_stations_df = pd.DataFrame(temp_lst, columns=cols)\n",
    "    closest_stations_df = closest_stations_df.set_index('loc_id')\n",
    "    return closest_stations_df"
   ]
  },
  {
   "cell_type": "code",
   "execution_count": 12,
   "metadata": {
    "collapsed": false
   },
   "outputs": [],
   "source": [
    "new_df = create_closest_station_df(s_df, udf)"
   ]
  },
  {
   "cell_type": "code",
   "execution_count": 13,
   "metadata": {
    "collapsed": false
   },
   "outputs": [
    {
     "data": {
      "text/html": [
       "<div>\n",
       "<table border=\"1\" class=\"dataframe\">\n",
       "  <thead>\n",
       "    <tr style=\"text-align: right;\">\n",
       "      <th></th>\n",
       "      <th>wban_id</th>\n",
       "      <th>distance</th>\n",
       "    </tr>\n",
       "    <tr>\n",
       "      <th>loc_id</th>\n",
       "      <th></th>\n",
       "      <th></th>\n",
       "    </tr>\n",
       "  </thead>\n",
       "  <tbody>\n",
       "    <tr>\n",
       "      <th>ELEC.PLANT.GEN.56889-SUN-ALL.M</th>\n",
       "      <td>64756</td>\n",
       "      <td>128.560289</td>\n",
       "    </tr>\n",
       "    <tr>\n",
       "      <th>ELEC.PLANT.GEN.58536-SUN-ALL.M</th>\n",
       "      <td>03761</td>\n",
       "      <td>146.768766</td>\n",
       "    </tr>\n",
       "    <tr>\n",
       "      <th>ELEC.PLANT.GEN.59361-SUN-ALL.M</th>\n",
       "      <td>54796</td>\n",
       "      <td>102.243005</td>\n",
       "    </tr>\n",
       "    <tr>\n",
       "      <th>ELEC.PLANT.GEN.57485-SUN-ALL.M</th>\n",
       "      <td>03761</td>\n",
       "      <td>105.548258</td>\n",
       "    </tr>\n",
       "    <tr>\n",
       "      <th>ELEC.PLANT.GEN.59956-SUN-ALL.M</th>\n",
       "      <td>03758</td>\n",
       "      <td>87.539528</td>\n",
       "    </tr>\n",
       "  </tbody>\n",
       "</table>\n",
       "</div>"
      ],
      "text/plain": [
       "                               wban_id    distance\n",
       "loc_id                                            \n",
       "ELEC.PLANT.GEN.56889-SUN-ALL.M   64756  128.560289\n",
       "ELEC.PLANT.GEN.58536-SUN-ALL.M   03761  146.768766\n",
       "ELEC.PLANT.GEN.59361-SUN-ALL.M   54796  102.243005\n",
       "ELEC.PLANT.GEN.57485-SUN-ALL.M   03761  105.548258\n",
       "ELEC.PLANT.GEN.59956-SUN-ALL.M   03758   87.539528"
      ]
     },
     "execution_count": 13,
     "metadata": {},
     "output_type": "execute_result"
    }
   ],
   "source": [
    "new_df.head()"
   ]
  },
  {
   "cell_type": "markdown",
   "metadata": {},
   "source": [
    "# Confirming script ran"
   ]
  },
  {
   "cell_type": "code",
   "execution_count": 14,
   "metadata": {
    "collapsed": true
   },
   "outputs": [],
   "source": [
    "db_loc = 'postgresql+psycopg2://teamsunshinedemo:oscarisawesome123'\n",
    "db_loc += '@teamsunshinedemo.coga7nzsvf0h.us-east-1.rds.amazonaws.com:'\n",
    "db_loc += '5432/solarenergy'\n",
    "engine = create_engine(db_loc)"
   ]
  },
  {
   "cell_type": "code",
   "execution_count": 15,
   "metadata": {
    "collapsed": true
   },
   "outputs": [],
   "source": [
    "query = \"SELECT * from closest_stations\"\n",
    "test = pd.read_sql(query, engine, index_col = 'loc_id')"
   ]
  },
  {
   "cell_type": "code",
   "execution_count": 16,
   "metadata": {
    "collapsed": false
   },
   "outputs": [
    {
     "data": {
      "text/html": [
       "<div>\n",
       "<table border=\"1\" class=\"dataframe\">\n",
       "  <thead>\n",
       "    <tr style=\"text-align: right;\">\n",
       "      <th></th>\n",
       "      <th>wban_id</th>\n",
       "      <th>distance</th>\n",
       "    </tr>\n",
       "    <tr>\n",
       "      <th>loc_id</th>\n",
       "      <th></th>\n",
       "      <th></th>\n",
       "    </tr>\n",
       "  </thead>\n",
       "  <tbody>\n",
       "    <tr>\n",
       "      <th>ELEC.PLANT.GEN.56889-SUN-ALL.M</th>\n",
       "      <td>64756</td>\n",
       "      <td>128.560289</td>\n",
       "    </tr>\n",
       "    <tr>\n",
       "      <th>ELEC.PLANT.GEN.58536-SUN-ALL.M</th>\n",
       "      <td>03761</td>\n",
       "      <td>146.768766</td>\n",
       "    </tr>\n",
       "    <tr>\n",
       "      <th>ELEC.PLANT.GEN.59361-SUN-ALL.M</th>\n",
       "      <td>54796</td>\n",
       "      <td>102.243005</td>\n",
       "    </tr>\n",
       "    <tr>\n",
       "      <th>ELEC.PLANT.GEN.57485-SUN-ALL.M</th>\n",
       "      <td>03761</td>\n",
       "      <td>105.548258</td>\n",
       "    </tr>\n",
       "    <tr>\n",
       "      <th>ELEC.PLANT.GEN.59956-SUN-ALL.M</th>\n",
       "      <td>03758</td>\n",
       "      <td>87.539528</td>\n",
       "    </tr>\n",
       "    <tr>\n",
       "      <th>ELEC.PLANT.GEN.58540-SUN-ALL.M</th>\n",
       "      <td>53025</td>\n",
       "      <td>92.582347</td>\n",
       "    </tr>\n",
       "    <tr>\n",
       "      <th>ELEC.PLANT.GEN.58373-SUN-ALL.M</th>\n",
       "      <td>53152</td>\n",
       "      <td>166.329221</td>\n",
       "    </tr>\n",
       "    <tr>\n",
       "      <th>ELEC.PLANT.GEN.58561-SUN-ALL.M</th>\n",
       "      <td>54795</td>\n",
       "      <td>29.956636</td>\n",
       "    </tr>\n",
       "    <tr>\n",
       "      <th>ELEC.PLANT.GEN.58315-SUN-ALL.M</th>\n",
       "      <td>53878</td>\n",
       "      <td>131.116470</td>\n",
       "    </tr>\n",
       "    <tr>\n",
       "      <th>ELEC.PLANT.GEN.58604-SUN-ALL.M</th>\n",
       "      <td>53185</td>\n",
       "      <td>56.080586</td>\n",
       "    </tr>\n",
       "    <tr>\n",
       "      <th>ELEC.PLANT.GEN.59176-SUN-ALL.M</th>\n",
       "      <td>03739</td>\n",
       "      <td>194.348276</td>\n",
       "    </tr>\n",
       "    <tr>\n",
       "      <th>ELEC.PLANT.GEN.57227-SUN-ALL.M</th>\n",
       "      <td>53151</td>\n",
       "      <td>72.607653</td>\n",
       "    </tr>\n",
       "    <tr>\n",
       "      <th>ELEC.PLANT.GEN.57656-SUN-ALL.M</th>\n",
       "      <td>53151</td>\n",
       "      <td>53.139079</td>\n",
       "    </tr>\n",
       "    <tr>\n",
       "      <th>ELEC.PLANT.GEN.59497-SUN-ALL.M</th>\n",
       "      <td>03758</td>\n",
       "      <td>200.701849</td>\n",
       "    </tr>\n",
       "    <tr>\n",
       "      <th>ELEC.PLANT.GEN.59587-SUN-ALL.M</th>\n",
       "      <td>03758</td>\n",
       "      <td>146.972732</td>\n",
       "    </tr>\n",
       "    <tr>\n",
       "      <th>ELEC.PLANT.GEN.57765-SUN-ALL.M</th>\n",
       "      <td>53154</td>\n",
       "      <td>33.559002</td>\n",
       "    </tr>\n",
       "    <tr>\n",
       "      <th>ELEC.PLANT.GEN.57589-SUN-ALL.M</th>\n",
       "      <td>64756</td>\n",
       "      <td>126.469787</td>\n",
       "    </tr>\n",
       "    <tr>\n",
       "      <th>ELEC.PLANT.GEN.56976-SUN-ALL.M</th>\n",
       "      <td>53151</td>\n",
       "      <td>77.359883</td>\n",
       "    </tr>\n",
       "    <tr>\n",
       "      <th>ELEC.PLANT.GEN.58867-SUN-ALL.M</th>\n",
       "      <td>03758</td>\n",
       "      <td>58.982674</td>\n",
       "    </tr>\n",
       "    <tr>\n",
       "      <th>ELEC.PLANT.GEN.60219-SUN-ALL.M</th>\n",
       "      <td>93245</td>\n",
       "      <td>141.152504</td>\n",
       "    </tr>\n",
       "    <tr>\n",
       "      <th>ELEC.PLANT.GEN.59431-SUN-ALL.M</th>\n",
       "      <td>53152</td>\n",
       "      <td>144.667655</td>\n",
       "    </tr>\n",
       "    <tr>\n",
       "      <th>ELEC.PLANT.GEN.59743-SUN-ALL.M</th>\n",
       "      <td>nan</td>\n",
       "      <td>57.944064</td>\n",
       "    </tr>\n",
       "    <tr>\n",
       "      <th>ELEC.PLANT.GEN.59745-SUN-ALL.M</th>\n",
       "      <td>54795</td>\n",
       "      <td>58.183643</td>\n",
       "    </tr>\n",
       "    <tr>\n",
       "      <th>ELEC.PLANT.GEN.58991-SUN-ALL.M</th>\n",
       "      <td>93243</td>\n",
       "      <td>141.391015</td>\n",
       "    </tr>\n",
       "    <tr>\n",
       "      <th>ELEC.PLANT.GEN.56922-SUN-ALL.M</th>\n",
       "      <td>03096</td>\n",
       "      <td>37.223152</td>\n",
       "    </tr>\n",
       "    <tr>\n",
       "      <th>ELEC.PLANT.GEN.59675-SUN-ALL.M</th>\n",
       "      <td>03758</td>\n",
       "      <td>123.274286</td>\n",
       "    </tr>\n",
       "    <tr>\n",
       "      <th>ELEC.PLANT.GEN.59019-SUN-ALL.M</th>\n",
       "      <td>54811</td>\n",
       "      <td>122.927347</td>\n",
       "    </tr>\n",
       "    <tr>\n",
       "      <th>ELEC.PLANT.GEN.58370-SUN-ALL.M</th>\n",
       "      <td>04222</td>\n",
       "      <td>161.887881</td>\n",
       "    </tr>\n",
       "    <tr>\n",
       "      <th>ELEC.PLANT.GEN.58311-SUN-ALL.M</th>\n",
       "      <td>03728</td>\n",
       "      <td>154.973612</td>\n",
       "    </tr>\n",
       "    <tr>\n",
       "      <th>ELEC.PLANT.GEN.58863-SUN-ALL.M</th>\n",
       "      <td>53878</td>\n",
       "      <td>102.320238</td>\n",
       "    </tr>\n",
       "    <tr>\n",
       "      <th>...</th>\n",
       "      <td>...</td>\n",
       "      <td>...</td>\n",
       "    </tr>\n",
       "    <tr>\n",
       "      <th>ELEC.PLANT.GEN.57314-SUN-ALL.M</th>\n",
       "      <td>53151</td>\n",
       "      <td>108.903951</td>\n",
       "    </tr>\n",
       "    <tr>\n",
       "      <th>ELEC.PLANT.GEN.57562-SUN-ALL.M</th>\n",
       "      <td>53176</td>\n",
       "      <td>6.778715</td>\n",
       "    </tr>\n",
       "    <tr>\n",
       "      <th>ELEC.PLANT.GEN.59180-SUN-ALL.M</th>\n",
       "      <td>63898</td>\n",
       "      <td>118.203379</td>\n",
       "    </tr>\n",
       "    <tr>\n",
       "      <th>ELEC.PLANT.GEN.57661-SUN-ALL.M</th>\n",
       "      <td>03761</td>\n",
       "      <td>130.125467</td>\n",
       "    </tr>\n",
       "    <tr>\n",
       "      <th>ELEC.PLANT.GEN.59156-SUN-ALL.M</th>\n",
       "      <td>03758</td>\n",
       "      <td>108.797778</td>\n",
       "    </tr>\n",
       "    <tr>\n",
       "      <th>ELEC.PLANT.GEN.59323-SUN-ALL.M</th>\n",
       "      <td>93245</td>\n",
       "      <td>143.818853</td>\n",
       "    </tr>\n",
       "    <tr>\n",
       "      <th>ELEC.PLANT.GEN.56888-SUN-ALL.M</th>\n",
       "      <td>03761</td>\n",
       "      <td>118.923128</td>\n",
       "    </tr>\n",
       "    <tr>\n",
       "      <th>ELEC.PLANT.GEN.58718-SUN-ALL.M</th>\n",
       "      <td>53152</td>\n",
       "      <td>122.662140</td>\n",
       "    </tr>\n",
       "    <tr>\n",
       "      <th>ELEC.PLANT.GEN.57008-SUN-ALL.M</th>\n",
       "      <td>53152</td>\n",
       "      <td>71.675420</td>\n",
       "    </tr>\n",
       "    <tr>\n",
       "      <th>ELEC.PLANT.GEN.59131-SUN-ALL.M</th>\n",
       "      <td>54796</td>\n",
       "      <td>46.343656</td>\n",
       "    </tr>\n",
       "    <tr>\n",
       "      <th>ELEC.PLANT.GEN.58701-SUN-ALL.M</th>\n",
       "      <td>53878</td>\n",
       "      <td>127.019584</td>\n",
       "    </tr>\n",
       "    <tr>\n",
       "      <th>ELEC.PLANT.GEN.58488-SUN-ALL.M</th>\n",
       "      <td>22016</td>\n",
       "      <td>110.517474</td>\n",
       "    </tr>\n",
       "    <tr>\n",
       "      <th>ELEC.PLANT.GEN.58553-SUN-ALL.M</th>\n",
       "      <td>63898</td>\n",
       "      <td>90.582079</td>\n",
       "    </tr>\n",
       "    <tr>\n",
       "      <th>ELEC.PLANT.GEN.58323-SUN-ALL.M</th>\n",
       "      <td>03758</td>\n",
       "      <td>124.589313</td>\n",
       "    </tr>\n",
       "    <tr>\n",
       "      <th>ELEC.PLANT.GEN.57931-SUN-ALL.M</th>\n",
       "      <td>64756</td>\n",
       "      <td>98.812229</td>\n",
       "    </tr>\n",
       "    <tr>\n",
       "      <th>ELEC.PLANT.GEN.57352-SUN-ALL.M</th>\n",
       "      <td>03761</td>\n",
       "      <td>97.272120</td>\n",
       "    </tr>\n",
       "    <tr>\n",
       "      <th>ELEC.PLANT.GEN.58513-SUN-ALL.M</th>\n",
       "      <td>53172</td>\n",
       "      <td>105.284625</td>\n",
       "    </tr>\n",
       "    <tr>\n",
       "      <th>ELEC.PLANT.GEN.57368-SUN-ALL.M</th>\n",
       "      <td>03084</td>\n",
       "      <td>19.770230</td>\n",
       "    </tr>\n",
       "    <tr>\n",
       "      <th>ELEC.PLANT.GEN.57677-SUN-ALL.M</th>\n",
       "      <td>UN</td>\n",
       "      <td>111.295668</td>\n",
       "    </tr>\n",
       "    <tr>\n",
       "      <th>ELEC.PLANT.GEN.58289-SUN-ALL.M</th>\n",
       "      <td>53172</td>\n",
       "      <td>82.968758</td>\n",
       "    </tr>\n",
       "    <tr>\n",
       "      <th>ELEC.PLANT.GEN.57685-SUN-ALL.M</th>\n",
       "      <td>92821</td>\n",
       "      <td>67.225562</td>\n",
       "    </tr>\n",
       "    <tr>\n",
       "      <th>ELEC.PLANT.GEN.57225-SUN-ALL.M</th>\n",
       "      <td>53151</td>\n",
       "      <td>71.792510</td>\n",
       "    </tr>\n",
       "    <tr>\n",
       "      <th>ELEC.PLANT.GEN.59586-SUN-ALL.M</th>\n",
       "      <td>03758</td>\n",
       "      <td>151.028477</td>\n",
       "    </tr>\n",
       "    <tr>\n",
       "      <th>ELEC.PLANT.GEN.58859-SUN-ALL.M</th>\n",
       "      <td>03758</td>\n",
       "      <td>80.600871</td>\n",
       "    </tr>\n",
       "    <tr>\n",
       "      <th>ELEC.PLANT.GEN.58340-SUN-ALL.M</th>\n",
       "      <td>03758</td>\n",
       "      <td>58.651333</td>\n",
       "    </tr>\n",
       "    <tr>\n",
       "      <th>ELEC.PLANT.GEN.57224-SUN-ALL.M</th>\n",
       "      <td>53151</td>\n",
       "      <td>77.690713</td>\n",
       "    </tr>\n",
       "    <tr>\n",
       "      <th>ELEC.PLANT.GEN.58015-SUN-ALL.M</th>\n",
       "      <td>nan</td>\n",
       "      <td>48.326791</td>\n",
       "    </tr>\n",
       "    <tr>\n",
       "      <th>ELEC.PLANT.GEN.59185-SUN-ALL.M</th>\n",
       "      <td>03761</td>\n",
       "      <td>105.177127</td>\n",
       "    </tr>\n",
       "    <tr>\n",
       "      <th>ELEC.PLANT.GEN.59519-SUN-ALL.M</th>\n",
       "      <td>53878</td>\n",
       "      <td>132.651255</td>\n",
       "    </tr>\n",
       "    <tr>\n",
       "      <th>ELEC.PLANT.GEN.57986-SUN-ALL.M</th>\n",
       "      <td>03074</td>\n",
       "      <td>74.068026</td>\n",
       "    </tr>\n",
       "  </tbody>\n",
       "</table>\n",
       "<p>1298 rows × 2 columns</p>\n",
       "</div>"
      ],
      "text/plain": [
       "                               wban_id    distance\n",
       "loc_id                                            \n",
       "ELEC.PLANT.GEN.56889-SUN-ALL.M   64756  128.560289\n",
       "ELEC.PLANT.GEN.58536-SUN-ALL.M   03761  146.768766\n",
       "ELEC.PLANT.GEN.59361-SUN-ALL.M   54796  102.243005\n",
       "ELEC.PLANT.GEN.57485-SUN-ALL.M   03761  105.548258\n",
       "ELEC.PLANT.GEN.59956-SUN-ALL.M   03758   87.539528\n",
       "ELEC.PLANT.GEN.58540-SUN-ALL.M   53025   92.582347\n",
       "ELEC.PLANT.GEN.58373-SUN-ALL.M   53152  166.329221\n",
       "ELEC.PLANT.GEN.58561-SUN-ALL.M   54795   29.956636\n",
       "ELEC.PLANT.GEN.58315-SUN-ALL.M   53878  131.116470\n",
       "ELEC.PLANT.GEN.58604-SUN-ALL.M   53185   56.080586\n",
       "ELEC.PLANT.GEN.59176-SUN-ALL.M   03739  194.348276\n",
       "ELEC.PLANT.GEN.57227-SUN-ALL.M   53151   72.607653\n",
       "ELEC.PLANT.GEN.57656-SUN-ALL.M   53151   53.139079\n",
       "ELEC.PLANT.GEN.59497-SUN-ALL.M   03758  200.701849\n",
       "ELEC.PLANT.GEN.59587-SUN-ALL.M   03758  146.972732\n",
       "ELEC.PLANT.GEN.57765-SUN-ALL.M   53154   33.559002\n",
       "ELEC.PLANT.GEN.57589-SUN-ALL.M   64756  126.469787\n",
       "ELEC.PLANT.GEN.56976-SUN-ALL.M   53151   77.359883\n",
       "ELEC.PLANT.GEN.58867-SUN-ALL.M   03758   58.982674\n",
       "ELEC.PLANT.GEN.60219-SUN-ALL.M   93245  141.152504\n",
       "ELEC.PLANT.GEN.59431-SUN-ALL.M   53152  144.667655\n",
       "ELEC.PLANT.GEN.59743-SUN-ALL.M     nan   57.944064\n",
       "ELEC.PLANT.GEN.59745-SUN-ALL.M   54795   58.183643\n",
       "ELEC.PLANT.GEN.58991-SUN-ALL.M   93243  141.391015\n",
       "ELEC.PLANT.GEN.56922-SUN-ALL.M   03096   37.223152\n",
       "ELEC.PLANT.GEN.59675-SUN-ALL.M   03758  123.274286\n",
       "ELEC.PLANT.GEN.59019-SUN-ALL.M   54811  122.927347\n",
       "ELEC.PLANT.GEN.58370-SUN-ALL.M   04222  161.887881\n",
       "ELEC.PLANT.GEN.58311-SUN-ALL.M   03728  154.973612\n",
       "ELEC.PLANT.GEN.58863-SUN-ALL.M   53878  102.320238\n",
       "...                                ...         ...\n",
       "ELEC.PLANT.GEN.57314-SUN-ALL.M   53151  108.903951\n",
       "ELEC.PLANT.GEN.57562-SUN-ALL.M   53176    6.778715\n",
       "ELEC.PLANT.GEN.59180-SUN-ALL.M   63898  118.203379\n",
       "ELEC.PLANT.GEN.57661-SUN-ALL.M   03761  130.125467\n",
       "ELEC.PLANT.GEN.59156-SUN-ALL.M   03758  108.797778\n",
       "ELEC.PLANT.GEN.59323-SUN-ALL.M   93245  143.818853\n",
       "ELEC.PLANT.GEN.56888-SUN-ALL.M   03761  118.923128\n",
       "ELEC.PLANT.GEN.58718-SUN-ALL.M   53152  122.662140\n",
       "ELEC.PLANT.GEN.57008-SUN-ALL.M   53152   71.675420\n",
       "ELEC.PLANT.GEN.59131-SUN-ALL.M   54796   46.343656\n",
       "ELEC.PLANT.GEN.58701-SUN-ALL.M   53878  127.019584\n",
       "ELEC.PLANT.GEN.58488-SUN-ALL.M   22016  110.517474\n",
       "ELEC.PLANT.GEN.58553-SUN-ALL.M   63898   90.582079\n",
       "ELEC.PLANT.GEN.58323-SUN-ALL.M   03758  124.589313\n",
       "ELEC.PLANT.GEN.57931-SUN-ALL.M   64756   98.812229\n",
       "ELEC.PLANT.GEN.57352-SUN-ALL.M   03761   97.272120\n",
       "ELEC.PLANT.GEN.58513-SUN-ALL.M   53172  105.284625\n",
       "ELEC.PLANT.GEN.57368-SUN-ALL.M   03084   19.770230\n",
       "ELEC.PLANT.GEN.57677-SUN-ALL.M      UN  111.295668\n",
       "ELEC.PLANT.GEN.58289-SUN-ALL.M   53172   82.968758\n",
       "ELEC.PLANT.GEN.57685-SUN-ALL.M   92821   67.225562\n",
       "ELEC.PLANT.GEN.57225-SUN-ALL.M   53151   71.792510\n",
       "ELEC.PLANT.GEN.59586-SUN-ALL.M   03758  151.028477\n",
       "ELEC.PLANT.GEN.58859-SUN-ALL.M   03758   80.600871\n",
       "ELEC.PLANT.GEN.58340-SUN-ALL.M   03758   58.651333\n",
       "ELEC.PLANT.GEN.57224-SUN-ALL.M   53151   77.690713\n",
       "ELEC.PLANT.GEN.58015-SUN-ALL.M     nan   48.326791\n",
       "ELEC.PLANT.GEN.59185-SUN-ALL.M   03761  105.177127\n",
       "ELEC.PLANT.GEN.59519-SUN-ALL.M   53878  132.651255\n",
       "ELEC.PLANT.GEN.57986-SUN-ALL.M   03074   74.068026\n",
       "\n",
       "[1298 rows x 2 columns]"
      ]
     },
     "execution_count": 16,
     "metadata": {},
     "output_type": "execute_result"
    }
   ],
   "source": [
    "test"
   ]
  },
  {
   "cell_type": "code",
   "execution_count": null,
   "metadata": {
    "collapsed": true
   },
   "outputs": [],
   "source": []
  }
 ],
 "metadata": {
  "anaconda-cloud": {},
  "kernelspec": {
   "display_name": "Python [conda root]",
   "language": "python",
   "name": "conda-root-py"
  },
  "language_info": {
   "codemirror_mode": {
    "name": "ipython",
    "version": 2
   },
   "file_extension": ".py",
   "mimetype": "text/x-python",
   "name": "python",
   "nbconvert_exporter": "python",
   "pygments_lexer": "ipython2",
   "version": "2.7.12"
  }
 },
 "nbformat": 4,
 "nbformat_minor": 1
}
