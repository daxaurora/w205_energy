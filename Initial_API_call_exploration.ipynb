{
 "cells": [
  {
   "cell_type": "markdown",
   "metadata": {},
   "source": [
    "__W205, Fall 2016__   \n",
    "__Final Project:__ Solar Fields and Weather   \n",
    "__Group:__ Boris Kletser, Maya Miller-Vedam, Geoff Striling, Laura Williams   \n",
    "\n",
    "# Initial Data Exploration\n",
    "\n",
    "__OVERVIEW:__ This file contains example API calls to www.eia.gov and www.noaa.org and a brief exploration of the data available, its schema and contents."
   ]
  },
  {
   "cell_type": "code",
   "execution_count": 1,
   "metadata": {
    "collapsed": true
   },
   "outputs": [],
   "source": [
    "# imports\n",
    "import os\n",
    "import requests\n",
    "import numpy as np\n",
    "import pandas as pd"
   ]
  },
  {
   "cell_type": "code",
   "execution_count": null,
   "metadata": {
    "collapsed": true
   },
   "outputs": [],
   "source": [
    "# global vars -- you will need the following keys in order to run the code below\n",
    "EIA_API_KEY = ''\n",
    "NOAA_CDO_TOKEN = ''"
   ]
  },
  {
   "cell_type": "markdown",
   "metadata": {},
   "source": [
    "### I. Laura's Demo Code"
   ]
  },
  {
   "cell_type": "markdown",
   "metadata": {},
   "source": [
    "Getting EIA data via API Call:  \n",
    "\n",
    "\n",
    "__NOTE:__  \n",
    "* SEGS I -  no power generated in 2016  \n",
    "* SEGS II - no power generated since 2014  \n",
    "* SEGS III link: http://www.eia.gov/opendata/qb.cfm?category=4246&sdid=ELEC.PLANT.GEN.10439-SUN-ALL.M  "
   ]
  },
  {
   "cell_type": "code",
   "execution_count": 2,
   "metadata": {
    "collapsed": true
   },
   "outputs": [],
   "source": [
    "# Net Generartion for specific plants\n",
    "url = 'http://api.eia.gov/series/?api_key=' + EIA_API_KEY + \n",
    "          '&series_id=ELEC.PLANT.GEN.10439-SUN-ALL.M'\n",
    "segs3 = requests.get(url)"
   ]
  },
  {
   "cell_type": "code",
   "execution_count": 3,
   "metadata": {
    "collapsed": false
   },
   "outputs": [
    {
     "data": {
      "text/plain": [
       "200"
      ]
     },
     "execution_count": 3,
     "metadata": {},
     "output_type": "execute_result"
    }
   ],
   "source": [
    "# Can check if data downloaded properly by checking the status_code\n",
    "segs3.status_code"
   ]
  },
  {
   "cell_type": "code",
   "execution_count": 6,
   "metadata": {
    "collapsed": true
   },
   "outputs": [],
   "source": [
    "# Can turn the data into a json style dictionary\n",
    "segs3_dict = segs3.json()"
   ]
  },
  {
   "cell_type": "code",
   "execution_count": 10,
   "metadata": {
    "collapsed": false
   },
   "outputs": [
    {
     "data": {
      "text/html": [
       "<div>\n",
       "<table border=\"1\" class=\"dataframe\">\n",
       "  <thead>\n",
       "    <tr style=\"text-align: right;\">\n",
       "      <th></th>\n",
       "      <th>copyright</th>\n",
       "      <th>data</th>\n",
       "      <th>description</th>\n",
       "      <th>end</th>\n",
       "      <th>f</th>\n",
       "      <th>geography</th>\n",
       "      <th>iso3166</th>\n",
       "      <th>lat</th>\n",
       "      <th>latlon</th>\n",
       "      <th>lon</th>\n",
       "      <th>name</th>\n",
       "      <th>series_id</th>\n",
       "      <th>source</th>\n",
       "      <th>start</th>\n",
       "      <th>units</th>\n",
       "      <th>updated</th>\n",
       "    </tr>\n",
       "  </thead>\n",
       "  <tbody>\n",
       "    <tr>\n",
       "      <th>0</th>\n",
       "      <td>None</td>\n",
       "      <td>[[201608, 6272], [201607, 6351], [201606, 6609...</td>\n",
       "      <td>All solar powered electricity generation (incl...</td>\n",
       "      <td>201608</td>\n",
       "      <td>M</td>\n",
       "      <td>USA-CA</td>\n",
       "      <td>USA-CA</td>\n",
       "      <td>35.00694</td>\n",
       "      <td>35.00694,-117.555768</td>\n",
       "      <td>-117.555768</td>\n",
       "      <td>Net generation : SEGS III (10439) : solar : al...</td>\n",
       "      <td>ELEC.PLANT.GEN.10439-SUN-ALL.M</td>\n",
       "      <td>EIA, U.S. Energy Information Administration</td>\n",
       "      <td>200101</td>\n",
       "      <td>megawatthours</td>\n",
       "      <td>2016-10-25T13:28:18-0400</td>\n",
       "    </tr>\n",
       "  </tbody>\n",
       "</table>\n",
       "</div>"
      ],
      "text/plain": [
       "  copyright                                               data  \\\n",
       "0      None  [[201608, 6272], [201607, 6351], [201606, 6609...   \n",
       "\n",
       "                                         description     end  f geography  \\\n",
       "0  All solar powered electricity generation (incl...  201608  M    USA-CA   \n",
       "\n",
       "  iso3166       lat                latlon          lon  \\\n",
       "0  USA-CA  35.00694  35.00694,-117.555768  -117.555768   \n",
       "\n",
       "                                                name  \\\n",
       "0  Net generation : SEGS III (10439) : solar : al...   \n",
       "\n",
       "                        series_id  \\\n",
       "0  ELEC.PLANT.GEN.10439-SUN-ALL.M   \n",
       "\n",
       "                                        source   start          units  \\\n",
       "0  EIA, U.S. Energy Information Administration  200101  megawatthours   \n",
       "\n",
       "                    updated  \n",
       "0  2016-10-25T13:28:18-0400  "
      ]
     },
     "execution_count": 10,
     "metadata": {},
     "output_type": "execute_result"
    }
   ],
   "source": [
    "# create Dataframe\n",
    "segs3_df = pd.io.json.json_normalize(segs3_dict['series'])\n",
    "segs3_df"
   ]
  },
  {
   "cell_type": "code",
   "execution_count": 12,
   "metadata": {
    "collapsed": false
   },
   "outputs": [
    {
     "name": "stdout",
     "output_type": "stream",
     "text": [
      "         megawatts\n",
      "count   188.000000\n",
      "mean   4842.345745\n",
      "std    2910.088007\n",
      "min       5.000000\n",
      "25%    2024.750000\n",
      "50%    5405.000000\n",
      "75%    7092.750000\n",
      "max    9759.000000\n"
     ]
    },
    {
     "data": {
      "text/html": [
       "<div>\n",
       "<table border=\"1\" class=\"dataframe\">\n",
       "  <thead>\n",
       "    <tr style=\"text-align: right;\">\n",
       "      <th></th>\n",
       "      <th>date</th>\n",
       "      <th>megawatts</th>\n",
       "    </tr>\n",
       "  </thead>\n",
       "  <tbody>\n",
       "    <tr>\n",
       "      <th>183</th>\n",
       "      <td>200105</td>\n",
       "      <td>8523</td>\n",
       "    </tr>\n",
       "    <tr>\n",
       "      <th>184</th>\n",
       "      <td>200104</td>\n",
       "      <td>6181</td>\n",
       "    </tr>\n",
       "    <tr>\n",
       "      <th>185</th>\n",
       "      <td>200103</td>\n",
       "      <td>4888</td>\n",
       "    </tr>\n",
       "    <tr>\n",
       "      <th>186</th>\n",
       "      <td>200102</td>\n",
       "      <td>1805</td>\n",
       "    </tr>\n",
       "    <tr>\n",
       "      <th>187</th>\n",
       "      <td>200101</td>\n",
       "      <td>774</td>\n",
       "    </tr>\n",
       "  </tbody>\n",
       "</table>\n",
       "</div>"
      ],
      "text/plain": [
       "       date  megawatts\n",
       "183  200105       8523\n",
       "184  200104       6181\n",
       "185  200103       4888\n",
       "186  200102       1805\n",
       "187  200101        774"
      ]
     },
     "execution_count": 12,
     "metadata": {},
     "output_type": "execute_result"
    }
   ],
   "source": [
    "# A closer look at the data: 188 tuples\n",
    "data_df = pd.DataFrame(segs3_df['data'][0], columns = [\"date\", 'megawatts'])\n",
    "print data_df.describe()\n",
    "data_df.tail()"
   ]
  },
  {
   "cell_type": "markdown",
   "metadata": {},
   "source": [
    "### II. Weather Data From NOAA's Online Data Center"
   ]
  },
  {
   "cell_type": "markdown",
   "metadata": {},
   "source": [
    "First, just to get my feet wet w/ the API, here are a few queries."
   ]
  },
  {
   "cell_type": "code",
   "execution_count": 14,
   "metadata": {
    "collapsed": true
   },
   "outputs": [],
   "source": [
    "# Defining a Token Authorization Class (needed for noaa API calls)\n",
    "from requests.auth import AuthBase\n",
    "\n",
    "class TokenAuth(AuthBase):\n",
    "    \"\"\"Attaches Token Authentication to the Request Object\"\"\"\n",
    "    def __init__(self, token):\n",
    "        self.token = token\n",
    "        \n",
    "    def __call__(self, r):\n",
    "        # modify and return the request\n",
    "        r.headers['Token'] = self.token\n",
    "        return r"
   ]
  },
  {
   "cell_type": "code",
   "execution_count": 15,
   "metadata": {
    "collapsed": false
   },
   "outputs": [
    {
     "name": "stdout",
     "output_type": "stream",
     "text": [
      "200\n"
     ]
    }
   ],
   "source": [
    "# Fetch all available datasets\n",
    "noaa = requests.get('http://www.ncdc.noaa.gov/cdo-web/api/v2/datasets', auth=TokenAuth(NOAA_CDO_TOKEN))\n",
    "print noaa.status_code, "
   ]
  },
  {
   "cell_type": "code",
   "execution_count": 16,
   "metadata": {
    "collapsed": false
   },
   "outputs": [
    {
     "data": {
      "text/html": [
       "<div>\n",
       "<table border=\"1\" class=\"dataframe\">\n",
       "  <thead>\n",
       "    <tr style=\"text-align: right;\">\n",
       "      <th></th>\n",
       "      <th>datacoverage</th>\n",
       "      <th>id</th>\n",
       "      <th>maxdate</th>\n",
       "      <th>mindate</th>\n",
       "      <th>name</th>\n",
       "      <th>uid</th>\n",
       "    </tr>\n",
       "  </thead>\n",
       "  <tbody>\n",
       "    <tr>\n",
       "      <th>0</th>\n",
       "      <td>1.00</td>\n",
       "      <td>GHCND</td>\n",
       "      <td>2016-11-07</td>\n",
       "      <td>1763-01-01</td>\n",
       "      <td>Daily Summaries</td>\n",
       "      <td>gov.noaa.ncdc:C00861</td>\n",
       "    </tr>\n",
       "    <tr>\n",
       "      <th>1</th>\n",
       "      <td>1.00</td>\n",
       "      <td>GSOM</td>\n",
       "      <td>2016-10-01</td>\n",
       "      <td>1763-01-01</td>\n",
       "      <td>Global Summary of the Month</td>\n",
       "      <td>gov.noaa.ncdc:C00946</td>\n",
       "    </tr>\n",
       "    <tr>\n",
       "      <th>2</th>\n",
       "      <td>1.00</td>\n",
       "      <td>GSOY</td>\n",
       "      <td>2016-01-01</td>\n",
       "      <td>1763-01-01</td>\n",
       "      <td>Global Summary of the Year</td>\n",
       "      <td>gov.noaa.ncdc:C00947</td>\n",
       "    </tr>\n",
       "    <tr>\n",
       "      <th>3</th>\n",
       "      <td>0.95</td>\n",
       "      <td>NEXRAD2</td>\n",
       "      <td>2016-11-07</td>\n",
       "      <td>1991-06-05</td>\n",
       "      <td>Weather Radar (Level II)</td>\n",
       "      <td>gov.noaa.ncdc:C00345</td>\n",
       "    </tr>\n",
       "    <tr>\n",
       "      <th>4</th>\n",
       "      <td>0.95</td>\n",
       "      <td>NEXRAD3</td>\n",
       "      <td>2016-11-05</td>\n",
       "      <td>1994-05-20</td>\n",
       "      <td>Weather Radar (Level III)</td>\n",
       "      <td>gov.noaa.ncdc:C00708</td>\n",
       "    </tr>\n",
       "  </tbody>\n",
       "</table>\n",
       "</div>"
      ],
      "text/plain": [
       "   datacoverage       id     maxdate     mindate                         name  \\\n",
       "0          1.00    GHCND  2016-11-07  1763-01-01              Daily Summaries   \n",
       "1          1.00     GSOM  2016-10-01  1763-01-01  Global Summary of the Month   \n",
       "2          1.00     GSOY  2016-01-01  1763-01-01   Global Summary of the Year   \n",
       "3          0.95  NEXRAD2  2016-11-07  1991-06-05     Weather Radar (Level II)   \n",
       "4          0.95  NEXRAD3  2016-11-05  1994-05-20    Weather Radar (Level III)   \n",
       "\n",
       "                    uid  \n",
       "0  gov.noaa.ncdc:C00861  \n",
       "1  gov.noaa.ncdc:C00946  \n",
       "2  gov.noaa.ncdc:C00947  \n",
       "3  gov.noaa.ncdc:C00345  \n",
       "4  gov.noaa.ncdc:C00708  "
      ]
     },
     "execution_count": 16,
     "metadata": {},
     "output_type": "execute_result"
    }
   ],
   "source": [
    "# convert them into a dataframe and take a look:\n",
    "noaa_datasets_df = pd.io.json.json_normalize(noaa.json()['results'])\n",
    "noaa_datasets_df.head()"
   ]
  },
  {
   "cell_type": "code",
   "execution_count": 17,
   "metadata": {
    "collapsed": false
   },
   "outputs": [
    {
     "name": "stdout",
     "output_type": "stream",
     "text": [
      "  % Total    % Received % Xferd  Average Speed   Time    Time     Time  Current\n",
      "                                 Dload  Upload   Total   Spent    Left  Speed\n",
      "100  1625    0  1625    0     0  13233      0 --:--:-- --:--:-- --:--:-- 13319\n"
     ]
    }
   ],
   "source": [
    "# note that the requests API call above was really slow... \n",
    "# curls provides a command line alternative that could be piped to a file:\n",
    "# for example:\n",
    "! curl -H \"token:bwptzltBRUPKGcIptOARfSHnMBmShaLh\" \"http://www.ncdc.noaa.gov/cdo-web/api/v2/datasets\" > test.txt\n",
    "# WARNING: running this cell will create a file names test.txt \n",
    "# that contains the query results in the current direcory"
   ]
  },
  {
   "cell_type": "markdown",
   "metadata": {},
   "source": [
    "\n",
    "_For exploratory purposes I used_ [this noaa tool](http://www.ncdc.noaa.gov/cdo-web/datatools/findstation) _to manually locate a weather station close to the energy plant above._\n",
    "\n",
    "__Weather Station:__\n",
    "Bakersfield Airport, CA  \n",
    "Lat/long: 35.4344, -119.0542  \n",
    "Station ID: GHCND:USW00023155  "
   ]
  },
  {
   "cell_type": "code",
   "execution_count": 18,
   "metadata": {
    "collapsed": false
   },
   "outputs": [
    {
     "name": "stdout",
     "output_type": "stream",
     "text": [
      "200\n"
     ]
    }
   ],
   "source": [
    "# Fetch data from the Bakersfield station\n",
    "bakersfield = requests.get('http://www.ncdc.noaa.gov/cdo-web/api/v2/stations/GHCND:USW00023155', auth=TokenAuth(NOAA_CDO_TOKEN))\n",
    "print bakersfield.status_code"
   ]
  },
  {
   "cell_type": "code",
   "execution_count": 19,
   "metadata": {
    "collapsed": false
   },
   "outputs": [
    {
     "data": {
      "text/html": [
       "<div>\n",
       "<table border=\"1\" class=\"dataframe\">\n",
       "  <thead>\n",
       "    <tr style=\"text-align: right;\">\n",
       "      <th></th>\n",
       "      <th>datacoverage</th>\n",
       "      <th>id</th>\n",
       "      <th>maxdate</th>\n",
       "      <th>mindate</th>\n",
       "      <th>name</th>\n",
       "      <th>uid</th>\n",
       "    </tr>\n",
       "  </thead>\n",
       "  <tbody>\n",
       "    <tr>\n",
       "      <th>0</th>\n",
       "      <td>1.00</td>\n",
       "      <td>GHCND</td>\n",
       "      <td>2016-11-07</td>\n",
       "      <td>1763-01-01</td>\n",
       "      <td>Daily Summaries</td>\n",
       "      <td>gov.noaa.ncdc:C00861</td>\n",
       "    </tr>\n",
       "    <tr>\n",
       "      <th>1</th>\n",
       "      <td>1.00</td>\n",
       "      <td>GSOM</td>\n",
       "      <td>2016-10-01</td>\n",
       "      <td>1763-01-01</td>\n",
       "      <td>Global Summary of the Month</td>\n",
       "      <td>gov.noaa.ncdc:C00946</td>\n",
       "    </tr>\n",
       "    <tr>\n",
       "      <th>2</th>\n",
       "      <td>1.00</td>\n",
       "      <td>GSOY</td>\n",
       "      <td>2016-01-01</td>\n",
       "      <td>1763-01-01</td>\n",
       "      <td>Global Summary of the Year</td>\n",
       "      <td>gov.noaa.ncdc:C00947</td>\n",
       "    </tr>\n",
       "    <tr>\n",
       "      <th>3</th>\n",
       "      <td>0.95</td>\n",
       "      <td>NEXRAD2</td>\n",
       "      <td>2016-11-07</td>\n",
       "      <td>1991-06-05</td>\n",
       "      <td>Weather Radar (Level II)</td>\n",
       "      <td>gov.noaa.ncdc:C00345</td>\n",
       "    </tr>\n",
       "    <tr>\n",
       "      <th>4</th>\n",
       "      <td>0.95</td>\n",
       "      <td>NEXRAD3</td>\n",
       "      <td>2016-11-05</td>\n",
       "      <td>1994-05-20</td>\n",
       "      <td>Weather Radar (Level III)</td>\n",
       "      <td>gov.noaa.ncdc:C00708</td>\n",
       "    </tr>\n",
       "  </tbody>\n",
       "</table>\n",
       "</div>"
      ],
      "text/plain": [
       "   datacoverage       id     maxdate     mindate                         name  \\\n",
       "0          1.00    GHCND  2016-11-07  1763-01-01              Daily Summaries   \n",
       "1          1.00     GSOM  2016-10-01  1763-01-01  Global Summary of the Month   \n",
       "2          1.00     GSOY  2016-01-01  1763-01-01   Global Summary of the Year   \n",
       "3          0.95  NEXRAD2  2016-11-07  1991-06-05     Weather Radar (Level II)   \n",
       "4          0.95  NEXRAD3  2016-11-05  1994-05-20    Weather Radar (Level III)   \n",
       "\n",
       "                    uid  \n",
       "0  gov.noaa.ncdc:C00861  \n",
       "1  gov.noaa.ncdc:C00946  \n",
       "2  gov.noaa.ncdc:C00947  \n",
       "3  gov.noaa.ncdc:C00345  \n",
       "4  gov.noaa.ncdc:C00708  "
      ]
     },
     "execution_count": 19,
     "metadata": {},
     "output_type": "execute_result"
    }
   ],
   "source": [
    "# convert it into a dataframe and take a look:\n",
    "bakersfield_df = pd.io.json.json_normalize(noaa.json()['results'])\n",
    "bakersfield_df.head()"
   ]
  },
  {
   "cell_type": "code",
   "execution_count": 20,
   "metadata": {
    "collapsed": false
   },
   "outputs": [
    {
     "name": "stdout",
     "output_type": "stream",
     "text": [
      "200\n"
     ]
    }
   ],
   "source": [
    "# fetching daily summaries for this station, May 1 2010\n",
    "url = 'http://www.ncdc.noaa.gov/cdo-web/api/v2/data?datasetid=GHCND&station=GHCND:USW00023155&startdate=2010-05-01&enddate=2010-05-01'\n",
    "daily = requests.get(url, auth=TokenAuth(NOAA_CDO_TOKEN))\n",
    "print daily.status_code"
   ]
  },
  {
   "cell_type": "code",
   "execution_count": 22,
   "metadata": {
    "collapsed": false
   },
   "outputs": [
    {
     "data": {
      "text/html": [
       "<div>\n",
       "<table border=\"1\" class=\"dataframe\">\n",
       "  <thead>\n",
       "    <tr style=\"text-align: right;\">\n",
       "      <th></th>\n",
       "      <th>attributes</th>\n",
       "      <th>datatype</th>\n",
       "      <th>date</th>\n",
       "      <th>station</th>\n",
       "      <th>value</th>\n",
       "    </tr>\n",
       "  </thead>\n",
       "  <tbody>\n",
       "    <tr>\n",
       "      <th>0</th>\n",
       "      <td>,,S,</td>\n",
       "      <td>PRCP</td>\n",
       "      <td>2010-05-01T00:00:00</td>\n",
       "      <td>GHCND:AE000041196</td>\n",
       "      <td>0</td>\n",
       "    </tr>\n",
       "    <tr>\n",
       "      <th>1</th>\n",
       "      <td>H,,S,</td>\n",
       "      <td>TAVG</td>\n",
       "      <td>2010-05-01T00:00:00</td>\n",
       "      <td>GHCND:AE000041196</td>\n",
       "      <td>324</td>\n",
       "    </tr>\n",
       "    <tr>\n",
       "      <th>2</th>\n",
       "      <td>,,S,</td>\n",
       "      <td>TMAX</td>\n",
       "      <td>2010-05-01T00:00:00</td>\n",
       "      <td>GHCND:AE000041196</td>\n",
       "      <td>397</td>\n",
       "    </tr>\n",
       "    <tr>\n",
       "      <th>3</th>\n",
       "      <td>,,S,</td>\n",
       "      <td>TMIN</td>\n",
       "      <td>2010-05-01T00:00:00</td>\n",
       "      <td>GHCND:AE000041196</td>\n",
       "      <td>227</td>\n",
       "    </tr>\n",
       "    <tr>\n",
       "      <th>4</th>\n",
       "      <td>,,S,</td>\n",
       "      <td>PRCP</td>\n",
       "      <td>2010-05-01T00:00:00</td>\n",
       "      <td>GHCND:AEM00041194</td>\n",
       "      <td>0</td>\n",
       "    </tr>\n",
       "    <tr>\n",
       "      <th>5</th>\n",
       "      <td>H,,S,</td>\n",
       "      <td>TAVG</td>\n",
       "      <td>2010-05-01T00:00:00</td>\n",
       "      <td>GHCND:AEM00041194</td>\n",
       "      <td>341</td>\n",
       "    </tr>\n",
       "    <tr>\n",
       "      <th>6</th>\n",
       "      <td>,,S,</td>\n",
       "      <td>TMAX</td>\n",
       "      <td>2010-05-01T00:00:00</td>\n",
       "      <td>GHCND:AEM00041194</td>\n",
       "      <td>387</td>\n",
       "    </tr>\n",
       "    <tr>\n",
       "      <th>7</th>\n",
       "      <td>,,S,</td>\n",
       "      <td>TMIN</td>\n",
       "      <td>2010-05-01T00:00:00</td>\n",
       "      <td>GHCND:AEM00041194</td>\n",
       "      <td>293</td>\n",
       "    </tr>\n",
       "    <tr>\n",
       "      <th>8</th>\n",
       "      <td>H,,S,</td>\n",
       "      <td>TAVG</td>\n",
       "      <td>2010-05-01T00:00:00</td>\n",
       "      <td>GHCND:AEM00041217</td>\n",
       "      <td>327</td>\n",
       "    </tr>\n",
       "    <tr>\n",
       "      <th>9</th>\n",
       "      <td>,,S,</td>\n",
       "      <td>TMAX</td>\n",
       "      <td>2010-05-01T00:00:00</td>\n",
       "      <td>GHCND:AEM00041217</td>\n",
       "      <td>383</td>\n",
       "    </tr>\n",
       "    <tr>\n",
       "      <th>10</th>\n",
       "      <td>,,S,</td>\n",
       "      <td>TMIN</td>\n",
       "      <td>2010-05-01T00:00:00</td>\n",
       "      <td>GHCND:AEM00041217</td>\n",
       "      <td>274</td>\n",
       "    </tr>\n",
       "    <tr>\n",
       "      <th>11</th>\n",
       "      <td>H,,S,</td>\n",
       "      <td>TAVG</td>\n",
       "      <td>2010-05-01T00:00:00</td>\n",
       "      <td>GHCND:AEM00041218</td>\n",
       "      <td>354</td>\n",
       "    </tr>\n",
       "    <tr>\n",
       "      <th>12</th>\n",
       "      <td>,,S,</td>\n",
       "      <td>TMIN</td>\n",
       "      <td>2010-05-01T00:00:00</td>\n",
       "      <td>GHCND:AEM00041218</td>\n",
       "      <td>298</td>\n",
       "    </tr>\n",
       "    <tr>\n",
       "      <th>13</th>\n",
       "      <td>H,,S,</td>\n",
       "      <td>TAVG</td>\n",
       "      <td>2010-05-01T00:00:00</td>\n",
       "      <td>GHCND:AFM00040938</td>\n",
       "      <td>225</td>\n",
       "    </tr>\n",
       "    <tr>\n",
       "      <th>14</th>\n",
       "      <td>H,,S,</td>\n",
       "      <td>TAVG</td>\n",
       "      <td>2010-05-01T00:00:00</td>\n",
       "      <td>GHCND:AFM00040948</td>\n",
       "      <td>181</td>\n",
       "    </tr>\n",
       "    <tr>\n",
       "      <th>15</th>\n",
       "      <td>H,,S,</td>\n",
       "      <td>TAVG</td>\n",
       "      <td>2010-05-01T00:00:00</td>\n",
       "      <td>GHCND:AFM00040990</td>\n",
       "      <td>297</td>\n",
       "    </tr>\n",
       "    <tr>\n",
       "      <th>16</th>\n",
       "      <td>,,S,</td>\n",
       "      <td>PRCP</td>\n",
       "      <td>2010-05-01T00:00:00</td>\n",
       "      <td>GHCND:AG000060390</td>\n",
       "      <td>0</td>\n",
       "    </tr>\n",
       "    <tr>\n",
       "      <th>17</th>\n",
       "      <td>H,,S,</td>\n",
       "      <td>TAVG</td>\n",
       "      <td>2010-05-01T00:00:00</td>\n",
       "      <td>GHCND:AG000060390</td>\n",
       "      <td>216</td>\n",
       "    </tr>\n",
       "    <tr>\n",
       "      <th>18</th>\n",
       "      <td>,,S,</td>\n",
       "      <td>TMAX</td>\n",
       "      <td>2010-05-01T00:00:00</td>\n",
       "      <td>GHCND:AG000060390</td>\n",
       "      <td>297</td>\n",
       "    </tr>\n",
       "    <tr>\n",
       "      <th>19</th>\n",
       "      <td>,,S,</td>\n",
       "      <td>TMIN</td>\n",
       "      <td>2010-05-01T00:00:00</td>\n",
       "      <td>GHCND:AG000060390</td>\n",
       "      <td>158</td>\n",
       "    </tr>\n",
       "    <tr>\n",
       "      <th>20</th>\n",
       "      <td>,,S,</td>\n",
       "      <td>PRCP</td>\n",
       "      <td>2010-05-01T00:00:00</td>\n",
       "      <td>GHCND:AG000060590</td>\n",
       "      <td>0</td>\n",
       "    </tr>\n",
       "    <tr>\n",
       "      <th>21</th>\n",
       "      <td>H,,S,</td>\n",
       "      <td>TAVG</td>\n",
       "      <td>2010-05-01T00:00:00</td>\n",
       "      <td>GHCND:AG000060590</td>\n",
       "      <td>248</td>\n",
       "    </tr>\n",
       "    <tr>\n",
       "      <th>22</th>\n",
       "      <td>,,S,</td>\n",
       "      <td>TMAX</td>\n",
       "      <td>2010-05-01T00:00:00</td>\n",
       "      <td>GHCND:AG000060590</td>\n",
       "      <td>327</td>\n",
       "    </tr>\n",
       "    <tr>\n",
       "      <th>23</th>\n",
       "      <td>,,S,</td>\n",
       "      <td>TMIN</td>\n",
       "      <td>2010-05-01T00:00:00</td>\n",
       "      <td>GHCND:AG000060590</td>\n",
       "      <td>129</td>\n",
       "    </tr>\n",
       "    <tr>\n",
       "      <th>24</th>\n",
       "      <td>,,S,</td>\n",
       "      <td>PRCP</td>\n",
       "      <td>2010-05-01T00:00:00</td>\n",
       "      <td>GHCND:AG000060611</td>\n",
       "      <td>0</td>\n",
       "    </tr>\n",
       "  </tbody>\n",
       "</table>\n",
       "</div>"
      ],
      "text/plain": [
       "   attributes datatype                 date            station  value\n",
       "0        ,,S,     PRCP  2010-05-01T00:00:00  GHCND:AE000041196      0\n",
       "1       H,,S,     TAVG  2010-05-01T00:00:00  GHCND:AE000041196    324\n",
       "2        ,,S,     TMAX  2010-05-01T00:00:00  GHCND:AE000041196    397\n",
       "3        ,,S,     TMIN  2010-05-01T00:00:00  GHCND:AE000041196    227\n",
       "4        ,,S,     PRCP  2010-05-01T00:00:00  GHCND:AEM00041194      0\n",
       "5       H,,S,     TAVG  2010-05-01T00:00:00  GHCND:AEM00041194    341\n",
       "6        ,,S,     TMAX  2010-05-01T00:00:00  GHCND:AEM00041194    387\n",
       "7        ,,S,     TMIN  2010-05-01T00:00:00  GHCND:AEM00041194    293\n",
       "8       H,,S,     TAVG  2010-05-01T00:00:00  GHCND:AEM00041217    327\n",
       "9        ,,S,     TMAX  2010-05-01T00:00:00  GHCND:AEM00041217    383\n",
       "10       ,,S,     TMIN  2010-05-01T00:00:00  GHCND:AEM00041217    274\n",
       "11      H,,S,     TAVG  2010-05-01T00:00:00  GHCND:AEM00041218    354\n",
       "12       ,,S,     TMIN  2010-05-01T00:00:00  GHCND:AEM00041218    298\n",
       "13      H,,S,     TAVG  2010-05-01T00:00:00  GHCND:AFM00040938    225\n",
       "14      H,,S,     TAVG  2010-05-01T00:00:00  GHCND:AFM00040948    181\n",
       "15      H,,S,     TAVG  2010-05-01T00:00:00  GHCND:AFM00040990    297\n",
       "16       ,,S,     PRCP  2010-05-01T00:00:00  GHCND:AG000060390      0\n",
       "17      H,,S,     TAVG  2010-05-01T00:00:00  GHCND:AG000060390    216\n",
       "18       ,,S,     TMAX  2010-05-01T00:00:00  GHCND:AG000060390    297\n",
       "19       ,,S,     TMIN  2010-05-01T00:00:00  GHCND:AG000060390    158\n",
       "20       ,,S,     PRCP  2010-05-01T00:00:00  GHCND:AG000060590      0\n",
       "21      H,,S,     TAVG  2010-05-01T00:00:00  GHCND:AG000060590    248\n",
       "22       ,,S,     TMAX  2010-05-01T00:00:00  GHCND:AG000060590    327\n",
       "23       ,,S,     TMIN  2010-05-01T00:00:00  GHCND:AG000060590    129\n",
       "24       ,,S,     PRCP  2010-05-01T00:00:00  GHCND:AG000060611      0"
      ]
     },
     "execution_count": 22,
     "metadata": {},
     "output_type": "execute_result"
    }
   ],
   "source": [
    "# convert it into a dataframe and take a look:\n",
    "daily_df = pd.io.json.json_normalize(daily.json()['results'])\n",
    "daily_df"
   ]
  },
  {
   "cell_type": "code",
   "execution_count": null,
   "metadata": {
    "collapsed": true
   },
   "outputs": [],
   "source": []
  }
 ],
 "metadata": {
  "anaconda-cloud": {},
  "kernelspec": {
   "display_name": "Python 3",
   "language": "python",
   "name": "python3"
  },
  "language_info": {
   "codemirror_mode": {
    "name": "ipython",
    "version": 3
   },
   "file_extension": ".py",
   "mimetype": "text/x-python",
   "name": "python",
   "nbconvert_exporter": "python",
   "pygments_lexer": "ipython3",
   "version": "3.5.1"
  }
 },
 "nbformat": 4,
 "nbformat_minor": 0
}
