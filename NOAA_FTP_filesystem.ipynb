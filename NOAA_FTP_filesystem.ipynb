{
 "cells": [
  {
   "cell_type": "markdown",
   "metadata": {},
   "source": [
    "__W205, Fall 2016__   \n",
    "__Final Project:__ Solar Fields and Weather   \n",
    "__Group:__ Boris Kletser, Maya Miller-Vedam, Geoff Striling, Laura Williams   \n",
    "\n",
    "# Initial Data Exploration-- Part 2 (FTP)\n",
    "\n",
    "__OVERVIEW:__ This file contains example code to pull data from www.noaa.org using an FTP module."
   ]
  },
  {
   "cell_type": "code",
   "execution_count": 1,
   "metadata": {
    "collapsed": true
   },
   "outputs": [],
   "source": [
    "# imports\n",
    "import os\n",
    "import requests\n",
    "import numpy as np\n",
    "import pandas as pd\n",
    "from ftplib import FTP"
   ]
  },
  {
   "cell_type": "code",
   "execution_count": null,
   "metadata": {
    "collapsed": true
   },
   "outputs": [],
   "source": [
    "### SAMPLE CODE ###\n",
    "# >>> from ftplib import FTP\n",
    "# >>> ftp = FTP('ftp.debian.org')     # connect to host, default port\n",
    "# >>> ftp.login()                     # user anonymous, passwd anonymous@\n",
    "#'230 Login successful.'\n",
    "# >>> ftp.cwd('debian')               # change into \"debian\" directory\n",
    "# >>> ftp.retrlines('LIST')           # list directory contents\n",
    "# -rw-rw-r--    1 1176     1176         1063 Jun 15 10:18 README\n",
    "# ...\n",
    "# drwxr-sr-x    5 1176     1176         4096 Dec 19  2000 pool\n",
    "# drwxr-sr-x    4 1176     1176         4096 Nov 17  2008 project\n",
    "# drwxr-xr-x    3 1176     1176         4096 Oct 10  2012 tools\n",
    "# '226 Directory send OK.'\n",
    "# >>> ftp.retrbinary('RETR README', open('README', 'wb').write)\n",
    "# '226 Transfer complete.'\n",
    "# >>> ftp.quit()"
   ]
  },
  {
   "cell_type": "code",
   "execution_count": 3,
   "metadata": {
    "collapsed": true
   },
   "outputs": [],
   "source": [
    "ftp = FTP('ftp.ncdc.noaa.gov')     # connect to host, default port"
   ]
  },
  {
   "cell_type": "code",
   "execution_count": 4,
   "metadata": {
    "collapsed": false
   },
   "outputs": [
    {
     "data": {
      "text/plain": [
       "'230-****** WARNING ** WARNING ** WARNING ** WARNING ** WARNING ******\\n ** This is a United States Department of Commerce computer     **\\n ** system, which may be accessed and used only for             **\\n ** official Government business by authorized personnel.       **\\n ** Unauthorized access or use of this computer system may      **\\n ** subject violators to criminal, civil, and/or administrative **\\n ** action.  All information on this computer system may be     **\\n ** intercepted, recorded, read, copied, and disclosed by and   **\\n ** to authorized personnel for official purposes, including    **\\n ** criminal investigations.  Access or use of this computer    **\\n ** system by any person, whether authorized or unauthorized,   **\\n ** constitutes consent to these terms.                         **\\n ****** WARNING ** WARNING ** WARNING ** WARNING ** WARNING ******\\n230 Anonymous access granted, restrictions apply'"
      ]
     },
     "execution_count": 4,
     "metadata": {},
     "output_type": "execute_result"
    }
   ],
   "source": [
    "ftp.login()                     # user anonymous, passwd anonymous@"
   ]
  },
  {
   "cell_type": "code",
   "execution_count": 5,
   "metadata": {
    "collapsed": false
   },
   "outputs": [
    {
     "name": "stdout",
     "output_type": "stream",
     "text": [
      "drwxr-xr-x   2 root     root          512 Oct  6  2010 data\n",
      "-rw-r--r--   1 root     root      2024819 Jul  5 08:42 epa-oregon-crest-to-coast_overview_c20140401.pdf\n",
      "drwxr-xr-x   3 root     root          512 May 30  2013 nfs\n",
      "drwxr-xr-x   3 root     root          512 Sep 18  2015 nonpublic\n",
      "drwxrwxr-x  12 ftp      ftp         32768 Nov 13 17:00 pub\n",
      "drwx------   3 59990    root        32768 May  5  2014 tar\n",
      "-rw-r--r--   1 root     root          858 Dec  7  2012 welcome.msg\n"
     ]
    },
    {
     "data": {
      "text/plain": [
       "'226 Transfer complete'"
      ]
     },
     "execution_count": 5,
     "metadata": {},
     "output_type": "execute_result"
    }
   ],
   "source": [
    "ftp.retrlines('LIST')           # list directory contents"
   ]
  },
  {
   "cell_type": "code",
   "execution_count": null,
   "metadata": {
    "collapsed": true
   },
   "outputs": [],
   "source": [
    "ftp.cwd('data')               # change into \"data\" directory"
   ]
  },
  {
   "cell_type": "code",
   "execution_count": 7,
   "metadata": {
    "collapsed": false
   },
   "outputs": [
    {
     "name": "stdout",
     "output_type": "stream",
     "text": [
      "lrwxrwxrwx   1 root     root           13 May 24  2011 hidden -> ../nfs/hidden\n"
     ]
    },
    {
     "data": {
      "text/plain": [
       "'226 Transfer complete'"
      ]
     },
     "execution_count": 7,
     "metadata": {},
     "output_type": "execute_result"
    }
   ],
   "source": [
    "ftp.retrlines('LIST')           # list directory contents"
   ]
  },
  {
   "cell_type": "code",
   "execution_count": 9,
   "metadata": {
    "collapsed": false
   },
   "outputs": [
    {
     "data": {
      "text/plain": [
       "'250 CDUP command successful'"
      ]
     },
     "execution_count": 9,
     "metadata": {},
     "output_type": "execute_result"
    }
   ],
   "source": [
    "ftp.cwd('..')               # change into \"data\" directory"
   ]
  },
  {
   "cell_type": "code",
   "execution_count": 10,
   "metadata": {
    "collapsed": false
   },
   "outputs": [
    {
     "name": "stdout",
     "output_type": "stream",
     "text": [
      "drwxr-xr-x   2 root     root          512 Oct  6  2010 data\n",
      "-rw-r--r--   1 root     root      2024819 Jul  5 08:42 epa-oregon-crest-to-coast_overview_c20140401.pdf\n",
      "drwxr-xr-x   3 root     root          512 May 30  2013 nfs\n",
      "drwxr-xr-x   3 root     root          512 Sep 18  2015 nonpublic\n",
      "drwxrwxr-x  12 ftp      ftp         32768 Nov 13 17:00 pub\n",
      "drwx------   3 59990    root        32768 May  5  2014 tar\n",
      "-rw-r--r--   1 root     root          858 Dec  7  2012 welcome.msg\n"
     ]
    },
    {
     "data": {
      "text/plain": [
       "'226 Transfer complete'"
      ]
     },
     "execution_count": 10,
     "metadata": {},
     "output_type": "execute_result"
    }
   ],
   "source": [
    "ftp.retrlines('LIST')           # list directory contents"
   ]
  },
  {
   "cell_type": "code",
   "execution_count": 11,
   "metadata": {
    "collapsed": false
   },
   "outputs": [
    {
     "data": {
      "text/plain": [
       "'250 CWD command successful'"
      ]
     },
     "execution_count": 11,
     "metadata": {},
     "output_type": "execute_result"
    }
   ],
   "source": [
    "ftp.cwd('pub')               # change into \"pub\" directory"
   ]
  },
  {
   "cell_type": "code",
   "execution_count": 12,
   "metadata": {
    "collapsed": false
   },
   "outputs": [
    {
     "name": "stdout",
     "output_type": "stream",
     "text": [
      "drwxr-xr-x  93 ftp      1005        32768 Oct  7 08:44 data\n",
      "drwxrwxr-x   6 ftp      1005        65536 Nov 13 17:00 download\n",
      "drwxrwsr-x 1371 ftp      1118       524288 Nov 13 22:00 has\n",
      "drwxr-xr-x   3 ftp      1005        32768 Jun 22  2015 linda\n",
      "drwxr-xr-x   2 ftp      1005          512 May 28  2015 Marine\n",
      "drwxrwsr-x  66 48       nomads-prod    32768 Nov 13 21:13 nomads\n",
      "drwxr-xr-x   2 ftp      1005          512 May 28  2015 NWSSIS\n",
      "drwxr-xr-x   4 ftp      ftp      133955584 Nov 13 21:51 orders\n",
      "drwxrwxr-x   7 root     ftp         65536 Nov 13 21:58 upload\n",
      "drwxrwx--x   2 root     1005          512 Jun  6  2012 www\n"
     ]
    },
    {
     "data": {
      "text/plain": [
       "'226 Transfer complete'"
      ]
     },
     "execution_count": 12,
     "metadata": {},
     "output_type": "execute_result"
    }
   ],
   "source": [
    "ftp.retrlines('LIST')           # list directory contents"
   ]
  },
  {
   "cell_type": "code",
   "execution_count": 13,
   "metadata": {
    "collapsed": false
   },
   "outputs": [
    {
     "data": {
      "text/plain": [
       "'250 CWD command successful'"
      ]
     },
     "execution_count": 13,
     "metadata": {},
     "output_type": "execute_result"
    }
   ],
   "source": [
    "ftp.cwd('data')               # change into \"data\" directory"
   ]
  },
  {
   "cell_type": "code",
   "execution_count": 14,
   "metadata": {
    "collapsed": false
   },
   "outputs": [
    {
     "name": "stdout",
     "output_type": "stream",
     "text": [
      "drwxr-xr-x   2 ftp      1005          512 May  7  2015 109020\n",
      "drwxrwxr-x  59 ftp      1005        32768 Mar 17  2016 15min_precip-3260\n",
      "-rw-r--r--   1 ftp      1005      5772891 Apr 16  1997 96300w60\n",
      "drwxr-xr-x   5 ftp      1005          512 Sep 16  2014 aewc-v1\n",
      "drwxr-xr-x   2 ftp      1005        32768 Aug 19  2014 airsea\n",
      "drwxr-xr-x   2 ftp      1005        32768 Jun 20  2014 annualreports\n",
      "drwxr-xr-x   6 root     root          512 Sep  6  2012 anomalie\n",
      "drwxrwxr-x   4 ftp      1005        32768 May 27  2014 anomalies\n",
      "drwxrwxr-x  21 ftp      1005        32768 Feb  2  2016 asos-fivemin\n",
      "drwxrwxr-x  37 ftp      1005        32768 Feb  2  2016 asos-onemin\n",
      "drwxr-xr-x   2 ftp      1005        32768 Apr  3  2014 ASOS_Station_Photos\n",
      "drwxr-xr-x   2 ftp      1005          512 Jun 27  2014 blizzard\n",
      "drwxrwxr-x   3 ftp      1005        32768 Sep 26 14:26 ccd-data\n",
      "drwxrwxr-x   2 ftp      1005       524288 Jul  2  2014 cdmp\n",
      "drwxr-xr-x   4 ftp      1005          512 Jun 20 10:10 cdo\n",
      "drwxrwxr-x   5 ftp      1005        32768 Aug 18  2014 cirs\n",
      "drwxrwsr-x   2 2596     cmb-ops    131072 Nov  8 09:14 climgrid\n",
      "drwxrwxr-x  20 ftp      1005        32768 May  9  2016 cmb\n",
      "drwxrwxr-x  13 ftp      1005        32768 Aug 13  2015 coastal\n",
      "drwxr-xr-x  13 ftp      1005        32768 Aug 27  2015 cpo\n",
      "drwxr-xr-x   2 ftp      1005          512 May 14  2014 crdr\n",
      "drwxrwxr-x  15 ftp      1005        32768 Jun 23  2014 documentlibrary\n",
      "lrwxrwxrwx   1 ftp      1005           11 May 25  2011 download -> ../download\n",
      "drwxrwxr-x   6 ftp      1005          512 Jul  2  2014 ecosystems\n",
      "drwxr-xr-x   3 ftp      1005          512 Mar 21  2014 EngineeringWeatherData_CDROM\n",
      "drwxr-xr-x   4 ftp      1005          512 Jan 10  2014 extremeevents\n",
      "drwxr-xr-x   4 ftp      1005        32768 Oct 14 12:45 gcos\n",
      "drwxrwxr-x  11 ftp      1005        32768 Oct  9  2015 ghcn\n",
      "drwxrwxrwx   8 ftp      1005          512 Nov  7 10:32 globaldatabank\n",
      "drwxrwxr-x   5 ftp      1005          512 Mar 10  2016 gpcp\n",
      "drwxrwxr-x   2 ftp      1005          512 Apr 15  2013 gridded-nw-pac\n",
      "drwxr-xr-x  11 ftp      1005        32768 Nov 13 22:04 gruan\n",
      "drwxr-xr-x   2 ftp      1005          512 Oct  5 09:18 gsn\n",
      "drwxrwxr-x 118 4021     4021        32768 Nov 13 15:00 gsod\n",
      "drwxrwxr-x   2 ftp      1005        32768 Jun 26  2006 hazards\n",
      "drwxr-xr-x   3 ftp      1005          512 May  7  2015 hidden\n",
      "drwxrwxr-x   3 ftp      1005          512 Jul 16  2015 homr\n",
      "drwxrwxr-x  59 ftp      1005        32768 Jul 30  2015 hourly_precip-3240\n",
      "drwxr-xr-x   5 962      2109        32768 Nov 16  2015 hpd\n",
      "drwxrwsr-x   7 ftp      igra-prod    32768 Nov 13 19:32 igra\n",
      "drwxr-xr-x   6 ftp      1005       131072 Oct 15  2015 images\n",
      "drwxrwxr-x   5 ftp      1005          512 May 21  2015 Impact\n",
      "drwxr-xr-x   2 ftp      1005        32768 Oct  5 10:34 inventories\n",
      "drwxrwxr-x   2 ftp      1005        32768 Aug 20  2015 ish\n",
      "drwxrwxr-x  12 ftp      1005          512 Jun  9  2014 ispd\n",
      "drwxr-xr-x   2 ftp      1005          512 May  8  2015 john\n",
      "drwxr-xr-x   2 ftp      1005        32768 Sep  1  2015 jrennie\n",
      "drwxrwxr-x   3 975      2109        32768 Oct 24 11:11 lcd\n",
      "drwx------   2 root     root          512 Apr  5  2011 lost+found\n",
      "drwxr-xr-x   2 2672     2672          512 Sep 18  2014 madis\n",
      "drwxrwxr-x   2 ftp      1005        32768 Nov  9 13:21 mcdw\n",
      "drwxr-xr-x  11 967      2109        32768 Sep 24  2015 metadata\n",
      "drwxrwxr-x   5 ftp      1005          512 Jun 13  2014 mlost\n",
      "drwxrwxr-x   2 ftp      1005        32768 Nov  2 15:00 ncep_gts\n",
      "drwxrwxr-x   2 ftp      1005        32768 Aug 22  2001 news media\n",
      "drwxrwxr-x   4 ftp      1005          512 Jun 13  2014 nidis\n",
      "drwxrwxr-x 123 4021     4021        32768 Nov 13 14:43 noaa\n",
      "drwxrwxr-x   3 ftp      1005          512 Jun 16  2015 noaaglobaltemp\n",
      "drwxrwxr-x   7 ftp      1005          512 Aug 17  2015 normals\n",
      "drwxrwxr-x   7 ftp      1005          512 Nov 13  2013 nsrdb-solar\n",
      "drwxr-xr-x   2 ftp      1005        32768 Nov 10 09:02 nwshly\n",
      "drwxr-xr-x  25 ftp      1005        32768 Apr  5  2006 oi-daily\n",
      "drwxr-xr-x   3 ftp      1005      1048576 Oct 21  2015 oisst\n",
      "lrwxrwxrwx   1 ftp      1005           17 May 25  2011 olsatellite -> /47gb/olsatellite\n",
      "drwxrwxr-x   3 ftp      1005          512 Jun 26  2013 olstore\n",
      "drwxrwsr-x  48 2903     paleo-dev    32768 Sep 21 17:29 paleo\n",
      "drwxr-xr-x   3 ftp      1005        32768 Mar 11  2015 papers\n",
      "drwxr-xr-x   2 ftp      1005        32768 Dec 31  2015 pmorpts_py\n",
      "drwxrwxr-x   6 ftp      1005        32768 Aug 23 17:55 radar\n",
      "drwxrwsr-x   5 ftp      igra-prod      512 Nov  6 20:25 ratpac\n",
      "drwxrwxr-x   2 ftp      1005          512 Sep 21  2015 req201509\n",
      "-rw-r--r--   1 3659     root            0 Jun  8  2012 #rw-check\n",
      "drwxrwxr-x  10 ftp      1005          512 Aug 15  2013 satellite\n",
      "drwxr-xr-x   6 ftp      ftp           512 Jul  9  2015 scpub201506\n",
      "drwxrwxr-x   6 ftp      1005        32768 Jan 22  2014 sds\n",
      "drwxr-xr-x   3 ftp      1005          512 Jun 15  2015 sensor_study\n",
      "drwxrwxr-x   3 ftp      1005        65536 Jun 22  2014 snowmonitoring\n",
      "drwxrwxr-x  21 ftp      1005        32768 Sep  6  2012 software\n",
      "drwxrwxr-x  10 ftp      1005        32768 Feb  9  2015 special\n",
      "drwxrwxr-x   4 ftp      1005          512 Aug 26  2003 stations\n",
      "drwxrwxr-x   8 ftp      1005        32768 Mar 16  2016 swdi\n",
      "drwxrwxr-x  32 ftp      1005        32768 Aug 11  2008 techrpts\n",
      "drwxrwxr-x  28 ftp      1005        32768 Mar 30  2016 ua\n",
      "drwxr-xr-x  10 ftp      1005        32768 Aug 16 15:15 uscrn\n",
      "drwxrwxr-x   7 ftp      1005          512 Oct  4  2012 ushcn\n",
      "drwxrwxr-x   5 ftp      1005        32768 Jun 11  2015 usp\n",
      "drwxrwxr-x   4 ftp      1005          512 Dec 19  2011 usrcrn\n",
      "-rw-r--r--   1 ftp      1005     407060608 Sep  8  2014 Videoclip_50years_MCSS.wmv\n",
      "drwxrwxr-x  22 ftp      1005        32768 Feb 18  2016 vosclim\n",
      "drwxrwxr-x  12 ftp      1005        32768 May 20 17:08 wct\n",
      "drwxrwxr-x   6 ftp      1005        32768 Jul  8  2015 williams\n",
      "drwxrwxr-x   3 ftp      1005        32768 Aug 31  2015 wksst\n",
      "drwxrwxr-x   2 ftp      1005          512 Feb 20  2014 w_pacific_typhoon_aircraft_fixes\n",
      "drwxrwxr-x   2 ftp      1005          512 Jun 27  2014 ww-ii-data\n",
      "drwxrwxr-x   4 ftp      1005        32768 Dec 10  2014 wwr\n",
      "-rw-r--r--   1 root     root     58798080 Apr 14  2014 z\n"
     ]
    },
    {
     "data": {
      "text/plain": [
       "'226 Transfer complete'"
      ]
     },
     "execution_count": 14,
     "metadata": {},
     "output_type": "execute_result"
    }
   ],
   "source": [
    "ftp.retrlines('LIST')           # list directory contents"
   ]
  },
  {
   "cell_type": "code",
   "execution_count": 15,
   "metadata": {
    "collapsed": false
   },
   "outputs": [
    {
     "data": {
      "text/plain": [
       "'250 CWD command successful'"
      ]
     },
     "execution_count": 15,
     "metadata": {},
     "output_type": "execute_result"
    }
   ],
   "source": [
    "ftp.cwd('uscrn')               # change into \"data\" directory"
   ]
  },
  {
   "cell_type": "code",
   "execution_count": 16,
   "metadata": {
    "collapsed": false
   },
   "outputs": [
    {
     "name": "stdout",
     "output_type": "stream",
     "text": [
      "drwxr-xr-x   7 ftp      1005          512 May 16  2016 documentation\n",
      "drwxr-xr-x  14 ftp      1005        32768 Jan  6  2015 download\n",
      "drwxr-xr-x   2 ftp      1005          512 Aug  9  2014 notices\n",
      "drwxr-xr-x   9 ftp      1005        32768 Nov 13 00:00 products\n",
      "drwxr-xr-x   6 ftp      1005          512 Oct 21  2014 publications\n",
      "-rw-r--r--   1 ftp      1005          317 Sep  4  2014 readme.download.txt\n",
      "drwxr-xr-x   2 ftp      1005          512 Feb 22  2016 site_info\n",
      "drwxr-xr-x   2 root     root          512 Aug 16 15:15 txreports\n",
      "drwxrwxr-x  11 ftp      1005        32768 Jun 20  2014 uscrn-delete\n"
     ]
    },
    {
     "data": {
      "text/plain": [
       "'226 Transfer complete'"
      ]
     },
     "execution_count": 16,
     "metadata": {},
     "output_type": "execute_result"
    }
   ],
   "source": [
    "ftp.retrlines('LIST')           # list directory contents"
   ]
  },
  {
   "cell_type": "code",
   "execution_count": 17,
   "metadata": {
    "collapsed": false
   },
   "outputs": [
    {
     "name": "stdout",
     "output_type": "stream",
     "text": [
      "drwxr-xr-x   5 ftp      1005        32768 Aug 12  2015 bilotta\n",
      "drwxr-xr-x   2 ftp      1005          512 Nov 12 00:03 CAS\n",
      "drwxr-xr-x   3 ftp      1005        32768 Sep  4  2014 CollinsQAQC\n",
      "drwxr-xr-x   2 ftp      1005          512 Jan  6  2015 dbrooks\n",
      "drwxr-xr-x   3 ftp      1005          512 Jun 20  2014 egg\n",
      "drwxr-xr-x   4 ftp      1005          512 Jun 20  2014 FloodplainWetlandMaps\n",
      "drwxr-xr-x   6 ftp      1005        32768 Oct 15  2014 mpalecki\n",
      "drwxr-xr-x   3 ftp      1005        32768 Sep 21  2015 ncasey\n",
      "-rw-r--r--   1 ftp      1005          317 Sep  4  2014 readme.download.txt\n",
      "drwxr-xr-x   3 ftp      1005          512 Sep  4  2014 removed\n",
      "drwxr-xr-x   4 ftp      1005          512 Sep  4  2014 satval\n",
      "drwxr-xr-x  14 ftp      1005        32768 Sep  4  2014 scott\n",
      "drwxr-xr-x   3 ftp      1005          512 Jun 20  2014 visualizationdata\n"
     ]
    },
    {
     "data": {
      "text/plain": [
       "'226 Transfer complete'"
      ]
     },
     "execution_count": 17,
     "metadata": {},
     "output_type": "execute_result"
    }
   ],
   "source": [
    "ftp.cwd('download')               # change into \"data\" directory\n",
    "ftp.retrlines('LIST')           # list directory contents"
   ]
  },
  {
   "cell_type": "code",
   "execution_count": 1,
   "metadata": {
    "collapsed": false
   },
   "outputs": [
    {
     "ename": "NameError",
     "evalue": "name 'ftp' is not defined",
     "output_type": "error",
     "traceback": [
      "\u001b[0;31m---------------------------------------------------------------------------\u001b[0m",
      "\u001b[0;31mNameError\u001b[0m                                 Traceback (most recent call last)",
      "\u001b[0;32m<ipython-input-1-b1f3b38000de>\u001b[0m in \u001b[0;36m<module>\u001b[0;34m()\u001b[0m\n\u001b[0;32m----> 1\u001b[0;31m \u001b[0mftp\u001b[0m\u001b[0;34m.\u001b[0m\u001b[0mquit\u001b[0m\u001b[0;34m(\u001b[0m\u001b[0;34m)\u001b[0m\u001b[0;34m\u001b[0m\u001b[0m\n\u001b[0m",
      "\u001b[0;31mNameError\u001b[0m: name 'ftp' is not defined"
     ]
    }
   ],
   "source": [
    "ftp.quit()"
   ]
  },
  {
   "cell_type": "code",
   "execution_count": null,
   "metadata": {
    "collapsed": true
   },
   "outputs": [],
   "source": []
  }
 ],
 "metadata": {
  "kernelspec": {
   "display_name": "Python [w205]",
   "language": "python",
   "name": "Python [w205]"
  },
  "language_info": {
   "codemirror_mode": {
    "name": "ipython",
    "version": 2
   },
   "file_extension": ".py",
   "mimetype": "text/x-python",
   "name": "python",
   "nbconvert_exporter": "python",
   "pygments_lexer": "ipython2",
   "version": "2.7.12"
  }
 },
 "nbformat": 4,
 "nbformat_minor": 0
}
